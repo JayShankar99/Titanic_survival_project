{
 "cells": [
  {
   "cell_type": "code",
   "execution_count": 1,
   "metadata": {},
   "outputs": [],
   "source": [
    "import pandas as pd\n",
    "import numpy as np\n",
    "import warnings"
   ]
  },
  {
   "cell_type": "code",
   "execution_count": 2,
   "metadata": {},
   "outputs": [],
   "source": [
    "warnings.filterwarnings(\"ignore\")"
   ]
  },
  {
   "cell_type": "markdown",
   "metadata": {},
   "source": [
    "# EDA (Exploratory Data Analysis)"
   ]
  },
  {
   "cell_type": "code",
   "execution_count": 3,
   "metadata": {},
   "outputs": [],
   "source": [
    "# .csv -> comma seperated values\n",
    "\n",
    "titanic = pd.read_csv(\"full.csv\")     # to load the dataset\n",
    "                                 # overhere titanic is basically a pandas dataframe"
   ]
  },
  {
   "cell_type": "markdown",
   "metadata": {},
   "source": [
    "# Data Preprocessing or Data Wrangling"
   ]
  },
  {
   "cell_type": "code",
   "execution_count": 4,
   "metadata": {},
   "outputs": [
    {
     "data": {
      "text/html": [
       "<div>\n",
       "<style scoped>\n",
       "    .dataframe tbody tr th:only-of-type {\n",
       "        vertical-align: middle;\n",
       "    }\n",
       "\n",
       "    .dataframe tbody tr th {\n",
       "        vertical-align: top;\n",
       "    }\n",
       "\n",
       "    .dataframe thead th {\n",
       "        text-align: right;\n",
       "    }\n",
       "</style>\n",
       "<table border=\"1\" class=\"dataframe\">\n",
       "  <thead>\n",
       "    <tr style=\"text-align: right;\">\n",
       "      <th></th>\n",
       "      <th>PassengerId</th>\n",
       "      <th>Survived</th>\n",
       "      <th>Pclass</th>\n",
       "      <th>Name</th>\n",
       "      <th>Sex</th>\n",
       "      <th>Age</th>\n",
       "      <th>SibSp</th>\n",
       "      <th>Parch</th>\n",
       "      <th>Ticket</th>\n",
       "      <th>Fare</th>\n",
       "      <th>...</th>\n",
       "      <th>Embarked</th>\n",
       "      <th>WikiId</th>\n",
       "      <th>Name_wiki</th>\n",
       "      <th>Age_wiki</th>\n",
       "      <th>Hometown</th>\n",
       "      <th>Boarded</th>\n",
       "      <th>Destination</th>\n",
       "      <th>Lifeboat</th>\n",
       "      <th>Body</th>\n",
       "      <th>Class</th>\n",
       "    </tr>\n",
       "  </thead>\n",
       "  <tbody>\n",
       "    <tr>\n",
       "      <th>0</th>\n",
       "      <td>1</td>\n",
       "      <td>0.0</td>\n",
       "      <td>3</td>\n",
       "      <td>Braund, Mr. Owen Harris</td>\n",
       "      <td>male</td>\n",
       "      <td>22.0</td>\n",
       "      <td>1</td>\n",
       "      <td>0</td>\n",
       "      <td>A/5 21171</td>\n",
       "      <td>7.2500</td>\n",
       "      <td>...</td>\n",
       "      <td>S</td>\n",
       "      <td>691.0</td>\n",
       "      <td>Braund, Mr. Owen Harris</td>\n",
       "      <td>22.0</td>\n",
       "      <td>Bridgerule, Devon, England</td>\n",
       "      <td>Southampton</td>\n",
       "      <td>Qu'Appelle Valley, Saskatchewan, Canada</td>\n",
       "      <td>NaN</td>\n",
       "      <td>NaN</td>\n",
       "      <td>3.0</td>\n",
       "    </tr>\n",
       "    <tr>\n",
       "      <th>1</th>\n",
       "      <td>2</td>\n",
       "      <td>1.0</td>\n",
       "      <td>1</td>\n",
       "      <td>Cumings, Mrs. John Bradley (Florence Briggs Th...</td>\n",
       "      <td>female</td>\n",
       "      <td>38.0</td>\n",
       "      <td>1</td>\n",
       "      <td>0</td>\n",
       "      <td>PC 17599</td>\n",
       "      <td>71.2833</td>\n",
       "      <td>...</td>\n",
       "      <td>C</td>\n",
       "      <td>90.0</td>\n",
       "      <td>Cumings, Mrs. Florence Briggs (née Thayer)</td>\n",
       "      <td>35.0</td>\n",
       "      <td>New York, New York, US</td>\n",
       "      <td>Cherbourg</td>\n",
       "      <td>New York, New York, US</td>\n",
       "      <td>4</td>\n",
       "      <td>NaN</td>\n",
       "      <td>1.0</td>\n",
       "    </tr>\n",
       "    <tr>\n",
       "      <th>2</th>\n",
       "      <td>3</td>\n",
       "      <td>1.0</td>\n",
       "      <td>3</td>\n",
       "      <td>Heikkinen, Miss. Laina</td>\n",
       "      <td>female</td>\n",
       "      <td>26.0</td>\n",
       "      <td>0</td>\n",
       "      <td>0</td>\n",
       "      <td>STON/O2. 3101282</td>\n",
       "      <td>7.9250</td>\n",
       "      <td>...</td>\n",
       "      <td>S</td>\n",
       "      <td>865.0</td>\n",
       "      <td>Heikkinen, Miss Laina</td>\n",
       "      <td>26.0</td>\n",
       "      <td>Jyväskylä, Finland</td>\n",
       "      <td>Southampton</td>\n",
       "      <td>New York City</td>\n",
       "      <td>14?</td>\n",
       "      <td>NaN</td>\n",
       "      <td>3.0</td>\n",
       "    </tr>\n",
       "    <tr>\n",
       "      <th>3</th>\n",
       "      <td>4</td>\n",
       "      <td>1.0</td>\n",
       "      <td>1</td>\n",
       "      <td>Futrelle, Mrs. Jacques Heath (Lily May Peel)</td>\n",
       "      <td>female</td>\n",
       "      <td>35.0</td>\n",
       "      <td>1</td>\n",
       "      <td>0</td>\n",
       "      <td>113803</td>\n",
       "      <td>53.1000</td>\n",
       "      <td>...</td>\n",
       "      <td>S</td>\n",
       "      <td>127.0</td>\n",
       "      <td>Futrelle, Mrs. Lily May (née Peel)</td>\n",
       "      <td>35.0</td>\n",
       "      <td>Scituate, Massachusetts, US</td>\n",
       "      <td>Southampton</td>\n",
       "      <td>Scituate, Massachusetts, US</td>\n",
       "      <td>D</td>\n",
       "      <td>NaN</td>\n",
       "      <td>1.0</td>\n",
       "    </tr>\n",
       "    <tr>\n",
       "      <th>4</th>\n",
       "      <td>5</td>\n",
       "      <td>0.0</td>\n",
       "      <td>3</td>\n",
       "      <td>Allen, Mr. William Henry</td>\n",
       "      <td>male</td>\n",
       "      <td>35.0</td>\n",
       "      <td>0</td>\n",
       "      <td>0</td>\n",
       "      <td>373450</td>\n",
       "      <td>8.0500</td>\n",
       "      <td>...</td>\n",
       "      <td>S</td>\n",
       "      <td>627.0</td>\n",
       "      <td>Allen, Mr. William Henry</td>\n",
       "      <td>35.0</td>\n",
       "      <td>Birmingham, West Midlands, England</td>\n",
       "      <td>Southampton</td>\n",
       "      <td>New York City</td>\n",
       "      <td>NaN</td>\n",
       "      <td>NaN</td>\n",
       "      <td>3.0</td>\n",
       "    </tr>\n",
       "  </tbody>\n",
       "</table>\n",
       "<p>5 rows × 21 columns</p>\n",
       "</div>"
      ],
      "text/plain": [
       "   PassengerId  Survived  Pclass  \\\n",
       "0            1       0.0       3   \n",
       "1            2       1.0       1   \n",
       "2            3       1.0       3   \n",
       "3            4       1.0       1   \n",
       "4            5       0.0       3   \n",
       "\n",
       "                                                Name     Sex   Age  SibSp  \\\n",
       "0                            Braund, Mr. Owen Harris    male  22.0      1   \n",
       "1  Cumings, Mrs. John Bradley (Florence Briggs Th...  female  38.0      1   \n",
       "2                             Heikkinen, Miss. Laina  female  26.0      0   \n",
       "3       Futrelle, Mrs. Jacques Heath (Lily May Peel)  female  35.0      1   \n",
       "4                           Allen, Mr. William Henry    male  35.0      0   \n",
       "\n",
       "   Parch            Ticket     Fare  ... Embarked WikiId  \\\n",
       "0      0         A/5 21171   7.2500  ...        S  691.0   \n",
       "1      0          PC 17599  71.2833  ...        C   90.0   \n",
       "2      0  STON/O2. 3101282   7.9250  ...        S  865.0   \n",
       "3      0            113803  53.1000  ...        S  127.0   \n",
       "4      0            373450   8.0500  ...        S  627.0   \n",
       "\n",
       "                                    Name_wiki Age_wiki  \\\n",
       "0                     Braund, Mr. Owen Harris     22.0   \n",
       "1  Cumings, Mrs. Florence Briggs (née Thayer)     35.0   \n",
       "2                       Heikkinen, Miss Laina     26.0   \n",
       "3          Futrelle, Mrs. Lily May (née Peel)     35.0   \n",
       "4                    Allen, Mr. William Henry     35.0   \n",
       "\n",
       "                             Hometown      Boarded  \\\n",
       "0          Bridgerule, Devon, England  Southampton   \n",
       "1              New York, New York, US    Cherbourg   \n",
       "2                  Jyväskylä, Finland  Southampton   \n",
       "3         Scituate, Massachusetts, US  Southampton   \n",
       "4  Birmingham, West Midlands, England  Southampton   \n",
       "\n",
       "                               Destination Lifeboat Body Class  \n",
       "0  Qu'Appelle Valley, Saskatchewan, Canada      NaN  NaN   3.0  \n",
       "1                   New York, New York, US        4  NaN   1.0  \n",
       "2                            New York City      14?  NaN   3.0  \n",
       "3              Scituate, Massachusetts, US        D  NaN   1.0  \n",
       "4                            New York City      NaN  NaN   3.0  \n",
       "\n",
       "[5 rows x 21 columns]"
      ]
     },
     "execution_count": 4,
     "metadata": {},
     "output_type": "execute_result"
    }
   ],
   "source": [
    "#print(type(titanic))\n",
    "titanic.head()        # head() returns first first five rows of the whole data. "
   ]
  },
  {
   "cell_type": "code",
   "execution_count": 5,
   "metadata": {},
   "outputs": [
    {
     "data": {
      "text/html": [
       "<div>\n",
       "<style scoped>\n",
       "    .dataframe tbody tr th:only-of-type {\n",
       "        vertical-align: middle;\n",
       "    }\n",
       "\n",
       "    .dataframe tbody tr th {\n",
       "        vertical-align: top;\n",
       "    }\n",
       "\n",
       "    .dataframe thead th {\n",
       "        text-align: right;\n",
       "    }\n",
       "</style>\n",
       "<table border=\"1\" class=\"dataframe\">\n",
       "  <thead>\n",
       "    <tr style=\"text-align: right;\">\n",
       "      <th></th>\n",
       "      <th>PassengerId</th>\n",
       "      <th>Survived</th>\n",
       "      <th>Pclass</th>\n",
       "      <th>Name</th>\n",
       "      <th>Sex</th>\n",
       "      <th>Age</th>\n",
       "      <th>SibSp</th>\n",
       "      <th>Parch</th>\n",
       "      <th>Ticket</th>\n",
       "      <th>Fare</th>\n",
       "      <th>...</th>\n",
       "      <th>Embarked</th>\n",
       "      <th>WikiId</th>\n",
       "      <th>Name_wiki</th>\n",
       "      <th>Age_wiki</th>\n",
       "      <th>Hometown</th>\n",
       "      <th>Boarded</th>\n",
       "      <th>Destination</th>\n",
       "      <th>Lifeboat</th>\n",
       "      <th>Body</th>\n",
       "      <th>Class</th>\n",
       "    </tr>\n",
       "  </thead>\n",
       "  <tbody>\n",
       "    <tr>\n",
       "      <th>1304</th>\n",
       "      <td>1305</td>\n",
       "      <td>NaN</td>\n",
       "      <td>3</td>\n",
       "      <td>Spector, Mr. Woolf</td>\n",
       "      <td>male</td>\n",
       "      <td>NaN</td>\n",
       "      <td>0</td>\n",
       "      <td>0</td>\n",
       "      <td>A.5. 3236</td>\n",
       "      <td>8.0500</td>\n",
       "      <td>...</td>\n",
       "      <td>S</td>\n",
       "      <td>1227.0</td>\n",
       "      <td>Spector, Mr. Woolf</td>\n",
       "      <td>23.0</td>\n",
       "      <td>London, England</td>\n",
       "      <td>Southampton</td>\n",
       "      <td>New York City</td>\n",
       "      <td>NaN</td>\n",
       "      <td>NaN</td>\n",
       "      <td>3.0</td>\n",
       "    </tr>\n",
       "    <tr>\n",
       "      <th>1305</th>\n",
       "      <td>1306</td>\n",
       "      <td>NaN</td>\n",
       "      <td>1</td>\n",
       "      <td>Oliva y Ocana, Dona. Fermina</td>\n",
       "      <td>female</td>\n",
       "      <td>39.0</td>\n",
       "      <td>0</td>\n",
       "      <td>0</td>\n",
       "      <td>PC 17758</td>\n",
       "      <td>108.9000</td>\n",
       "      <td>...</td>\n",
       "      <td>C</td>\n",
       "      <td>229.0</td>\n",
       "      <td>and maid, Doña Fermina Oliva y Ocana</td>\n",
       "      <td>39.0</td>\n",
       "      <td>Madrid, Spain</td>\n",
       "      <td>Cherbourg</td>\n",
       "      <td>New York, New York, US</td>\n",
       "      <td>8</td>\n",
       "      <td>NaN</td>\n",
       "      <td>1.0</td>\n",
       "    </tr>\n",
       "    <tr>\n",
       "      <th>1306</th>\n",
       "      <td>1307</td>\n",
       "      <td>NaN</td>\n",
       "      <td>3</td>\n",
       "      <td>Saether, Mr. Simon Sivertsen</td>\n",
       "      <td>male</td>\n",
       "      <td>38.5</td>\n",
       "      <td>0</td>\n",
       "      <td>0</td>\n",
       "      <td>SOTON/O.Q. 3101262</td>\n",
       "      <td>7.2500</td>\n",
       "      <td>...</td>\n",
       "      <td>S</td>\n",
       "      <td>1169.0</td>\n",
       "      <td>Sæther, Mr. Simon Sivertsen</td>\n",
       "      <td>43.0</td>\n",
       "      <td>Skaun, Sør-Trøndelag, Norway</td>\n",
       "      <td>Southampton</td>\n",
       "      <td>US</td>\n",
       "      <td>NaN</td>\n",
       "      <td>32MB</td>\n",
       "      <td>3.0</td>\n",
       "    </tr>\n",
       "    <tr>\n",
       "      <th>1307</th>\n",
       "      <td>1308</td>\n",
       "      <td>NaN</td>\n",
       "      <td>3</td>\n",
       "      <td>Ware, Mr. Frederick</td>\n",
       "      <td>male</td>\n",
       "      <td>NaN</td>\n",
       "      <td>0</td>\n",
       "      <td>0</td>\n",
       "      <td>359309</td>\n",
       "      <td>8.0500</td>\n",
       "      <td>...</td>\n",
       "      <td>S</td>\n",
       "      <td>1289.0</td>\n",
       "      <td>Ware, Mr. Frederick William</td>\n",
       "      <td>34.0</td>\n",
       "      <td>Greenwich, London, England</td>\n",
       "      <td>Southampton</td>\n",
       "      <td>New York City</td>\n",
       "      <td>NaN</td>\n",
       "      <td>NaN</td>\n",
       "      <td>3.0</td>\n",
       "    </tr>\n",
       "    <tr>\n",
       "      <th>1308</th>\n",
       "      <td>1309</td>\n",
       "      <td>NaN</td>\n",
       "      <td>3</td>\n",
       "      <td>Peter, Master. Michael J</td>\n",
       "      <td>male</td>\n",
       "      <td>NaN</td>\n",
       "      <td>1</td>\n",
       "      <td>1</td>\n",
       "      <td>2668</td>\n",
       "      <td>22.3583</td>\n",
       "      <td>...</td>\n",
       "      <td>C</td>\n",
       "      <td>702.0</td>\n",
       "      <td>Butrus-Youssef, Master Makhkhul</td>\n",
       "      <td>4.0</td>\n",
       "      <td>Sar'al[81], Syria</td>\n",
       "      <td>Cherbourg</td>\n",
       "      <td>Detroit, Michigan, US</td>\n",
       "      <td>D</td>\n",
       "      <td>NaN</td>\n",
       "      <td>3.0</td>\n",
       "    </tr>\n",
       "  </tbody>\n",
       "</table>\n",
       "<p>5 rows × 21 columns</p>\n",
       "</div>"
      ],
      "text/plain": [
       "      PassengerId  Survived  Pclass                          Name     Sex  \\\n",
       "1304         1305       NaN       3            Spector, Mr. Woolf    male   \n",
       "1305         1306       NaN       1  Oliva y Ocana, Dona. Fermina  female   \n",
       "1306         1307       NaN       3  Saether, Mr. Simon Sivertsen    male   \n",
       "1307         1308       NaN       3           Ware, Mr. Frederick    male   \n",
       "1308         1309       NaN       3      Peter, Master. Michael J    male   \n",
       "\n",
       "       Age  SibSp  Parch              Ticket      Fare  ... Embarked  WikiId  \\\n",
       "1304   NaN      0      0           A.5. 3236    8.0500  ...        S  1227.0   \n",
       "1305  39.0      0      0            PC 17758  108.9000  ...        C   229.0   \n",
       "1306  38.5      0      0  SOTON/O.Q. 3101262    7.2500  ...        S  1169.0   \n",
       "1307   NaN      0      0              359309    8.0500  ...        S  1289.0   \n",
       "1308   NaN      1      1                2668   22.3583  ...        C   702.0   \n",
       "\n",
       "                                 Name_wiki Age_wiki  \\\n",
       "1304                    Spector, Mr. Woolf     23.0   \n",
       "1305  and maid, Doña Fermina Oliva y Ocana     39.0   \n",
       "1306           Sæther, Mr. Simon Sivertsen     43.0   \n",
       "1307           Ware, Mr. Frederick William     34.0   \n",
       "1308       Butrus-Youssef, Master Makhkhul      4.0   \n",
       "\n",
       "                          Hometown      Boarded             Destination  \\\n",
       "1304               London, England  Southampton           New York City   \n",
       "1305                 Madrid, Spain    Cherbourg  New York, New York, US   \n",
       "1306  Skaun, Sør-Trøndelag, Norway  Southampton                      US   \n",
       "1307    Greenwich, London, England  Southampton           New York City   \n",
       "1308             Sar'al[81], Syria    Cherbourg   Detroit, Michigan, US   \n",
       "\n",
       "     Lifeboat  Body Class  \n",
       "1304      NaN   NaN   3.0  \n",
       "1305        8   NaN   1.0  \n",
       "1306      NaN  32MB   3.0  \n",
       "1307      NaN   NaN   3.0  \n",
       "1308        D   NaN   3.0  \n",
       "\n",
       "[5 rows x 21 columns]"
      ]
     },
     "execution_count": 5,
     "metadata": {},
     "output_type": "execute_result"
    }
   ],
   "source": [
    "titanic.tail()     # tail() returns last five rows of the whole data."
   ]
  },
  {
   "cell_type": "code",
   "execution_count": 6,
   "metadata": {},
   "outputs": [
    {
     "data": {
      "text/plain": [
       "(1309, 21)"
      ]
     },
     "execution_count": 6,
     "metadata": {},
     "output_type": "execute_result"
    }
   ],
   "source": [
    "titanic.shape      # to know the shape of the data, size, dimention or to be more specific you can say number of rows and columns."
   ]
  },
  {
   "cell_type": "code",
   "execution_count": 7,
   "metadata": {},
   "outputs": [
    {
     "data": {
      "text/plain": [
       "Index(['PassengerId', 'Survived', 'Pclass', 'Name', 'Sex', 'Age', 'SibSp',\n",
       "       'Parch', 'Ticket', 'Fare', 'Cabin', 'Embarked', 'WikiId', 'Name_wiki',\n",
       "       'Age_wiki', 'Hometown', 'Boarded', 'Destination', 'Lifeboat', 'Body',\n",
       "       'Class'],\n",
       "      dtype='object')"
      ]
     },
     "execution_count": 7,
     "metadata": {},
     "output_type": "execute_result"
    }
   ],
   "source": [
    "titanic.columns     # to know all the labes, features, columns"
   ]
  },
  {
   "cell_type": "code",
   "execution_count": 8,
   "metadata": {},
   "outputs": [
    {
     "name": "stdout",
     "output_type": "stream",
     "text": [
      "<class 'pandas.core.frame.DataFrame'>\n",
      "RangeIndex: 1309 entries, 0 to 1308\n",
      "Data columns (total 21 columns):\n",
      " #   Column       Non-Null Count  Dtype  \n",
      "---  ------       --------------  -----  \n",
      " 0   PassengerId  1309 non-null   int64  \n",
      " 1   Survived     891 non-null    float64\n",
      " 2   Pclass       1309 non-null   int64  \n",
      " 3   Name         1309 non-null   object \n",
      " 4   Sex          1309 non-null   object \n",
      " 5   Age          1046 non-null   float64\n",
      " 6   SibSp        1309 non-null   int64  \n",
      " 7   Parch        1309 non-null   int64  \n",
      " 8   Ticket       1309 non-null   object \n",
      " 9   Fare         1308 non-null   float64\n",
      " 10  Cabin        295 non-null    object \n",
      " 11  Embarked     1307 non-null   object \n",
      " 12  WikiId       1304 non-null   float64\n",
      " 13  Name_wiki    1304 non-null   object \n",
      " 14  Age_wiki     1302 non-null   float64\n",
      " 15  Hometown     1304 non-null   object \n",
      " 16  Boarded      1304 non-null   object \n",
      " 17  Destination  1304 non-null   object \n",
      " 18  Lifeboat     502 non-null    object \n",
      " 19  Body         130 non-null    object \n",
      " 20  Class        1304 non-null   float64\n",
      "dtypes: float64(6), int64(4), object(11)\n",
      "memory usage: 214.9+ KB\n"
     ]
    }
   ],
   "source": [
    "titanic.info()"
   ]
  },
  {
   "cell_type": "code",
   "execution_count": 9,
   "metadata": {},
   "outputs": [
    {
     "data": {
      "text/html": [
       "<div>\n",
       "<style scoped>\n",
       "    .dataframe tbody tr th:only-of-type {\n",
       "        vertical-align: middle;\n",
       "    }\n",
       "\n",
       "    .dataframe tbody tr th {\n",
       "        vertical-align: top;\n",
       "    }\n",
       "\n",
       "    .dataframe thead th {\n",
       "        text-align: right;\n",
       "    }\n",
       "</style>\n",
       "<table border=\"1\" class=\"dataframe\">\n",
       "  <thead>\n",
       "    <tr style=\"text-align: right;\">\n",
       "      <th></th>\n",
       "      <th>PassengerId</th>\n",
       "      <th>Survived</th>\n",
       "      <th>Pclass</th>\n",
       "      <th>Age</th>\n",
       "      <th>SibSp</th>\n",
       "      <th>Parch</th>\n",
       "      <th>Fare</th>\n",
       "      <th>WikiId</th>\n",
       "      <th>Age_wiki</th>\n",
       "      <th>Class</th>\n",
       "    </tr>\n",
       "  </thead>\n",
       "  <tbody>\n",
       "    <tr>\n",
       "      <th>count</th>\n",
       "      <td>1309.000000</td>\n",
       "      <td>891.000000</td>\n",
       "      <td>1309.000000</td>\n",
       "      <td>1046.000000</td>\n",
       "      <td>1309.000000</td>\n",
       "      <td>1309.000000</td>\n",
       "      <td>1308.000000</td>\n",
       "      <td>1304.000000</td>\n",
       "      <td>1302.000000</td>\n",
       "      <td>1304.000000</td>\n",
       "    </tr>\n",
       "    <tr>\n",
       "      <th>mean</th>\n",
       "      <td>655.000000</td>\n",
       "      <td>0.383838</td>\n",
       "      <td>2.294882</td>\n",
       "      <td>29.881138</td>\n",
       "      <td>0.498854</td>\n",
       "      <td>0.385027</td>\n",
       "      <td>33.295479</td>\n",
       "      <td>658.534509</td>\n",
       "      <td>29.415829</td>\n",
       "      <td>2.291411</td>\n",
       "    </tr>\n",
       "    <tr>\n",
       "      <th>std</th>\n",
       "      <td>378.020061</td>\n",
       "      <td>0.486592</td>\n",
       "      <td>0.837836</td>\n",
       "      <td>14.413493</td>\n",
       "      <td>1.041658</td>\n",
       "      <td>0.865560</td>\n",
       "      <td>51.758668</td>\n",
       "      <td>380.377373</td>\n",
       "      <td>13.758954</td>\n",
       "      <td>0.840852</td>\n",
       "    </tr>\n",
       "    <tr>\n",
       "      <th>min</th>\n",
       "      <td>1.000000</td>\n",
       "      <td>0.000000</td>\n",
       "      <td>1.000000</td>\n",
       "      <td>0.170000</td>\n",
       "      <td>0.000000</td>\n",
       "      <td>0.000000</td>\n",
       "      <td>0.000000</td>\n",
       "      <td>1.000000</td>\n",
       "      <td>0.170000</td>\n",
       "      <td>1.000000</td>\n",
       "    </tr>\n",
       "    <tr>\n",
       "      <th>25%</th>\n",
       "      <td>328.000000</td>\n",
       "      <td>0.000000</td>\n",
       "      <td>2.000000</td>\n",
       "      <td>21.000000</td>\n",
       "      <td>0.000000</td>\n",
       "      <td>0.000000</td>\n",
       "      <td>7.895800</td>\n",
       "      <td>326.750000</td>\n",
       "      <td>21.000000</td>\n",
       "      <td>1.750000</td>\n",
       "    </tr>\n",
       "    <tr>\n",
       "      <th>50%</th>\n",
       "      <td>655.000000</td>\n",
       "      <td>0.000000</td>\n",
       "      <td>3.000000</td>\n",
       "      <td>28.000000</td>\n",
       "      <td>0.000000</td>\n",
       "      <td>0.000000</td>\n",
       "      <td>14.454200</td>\n",
       "      <td>661.500000</td>\n",
       "      <td>28.000000</td>\n",
       "      <td>3.000000</td>\n",
       "    </tr>\n",
       "    <tr>\n",
       "      <th>75%</th>\n",
       "      <td>982.000000</td>\n",
       "      <td>1.000000</td>\n",
       "      <td>3.000000</td>\n",
       "      <td>39.000000</td>\n",
       "      <td>1.000000</td>\n",
       "      <td>0.000000</td>\n",
       "      <td>31.275000</td>\n",
       "      <td>987.250000</td>\n",
       "      <td>37.750000</td>\n",
       "      <td>3.000000</td>\n",
       "    </tr>\n",
       "    <tr>\n",
       "      <th>max</th>\n",
       "      <td>1309.000000</td>\n",
       "      <td>1.000000</td>\n",
       "      <td>3.000000</td>\n",
       "      <td>80.000000</td>\n",
       "      <td>8.000000</td>\n",
       "      <td>9.000000</td>\n",
       "      <td>512.329200</td>\n",
       "      <td>1314.000000</td>\n",
       "      <td>74.000000</td>\n",
       "      <td>3.000000</td>\n",
       "    </tr>\n",
       "  </tbody>\n",
       "</table>\n",
       "</div>"
      ],
      "text/plain": [
       "       PassengerId    Survived       Pclass          Age        SibSp  \\\n",
       "count  1309.000000  891.000000  1309.000000  1046.000000  1309.000000   \n",
       "mean    655.000000    0.383838     2.294882    29.881138     0.498854   \n",
       "std     378.020061    0.486592     0.837836    14.413493     1.041658   \n",
       "min       1.000000    0.000000     1.000000     0.170000     0.000000   \n",
       "25%     328.000000    0.000000     2.000000    21.000000     0.000000   \n",
       "50%     655.000000    0.000000     3.000000    28.000000     0.000000   \n",
       "75%     982.000000    1.000000     3.000000    39.000000     1.000000   \n",
       "max    1309.000000    1.000000     3.000000    80.000000     8.000000   \n",
       "\n",
       "             Parch         Fare       WikiId     Age_wiki        Class  \n",
       "count  1309.000000  1308.000000  1304.000000  1302.000000  1304.000000  \n",
       "mean      0.385027    33.295479   658.534509    29.415829     2.291411  \n",
       "std       0.865560    51.758668   380.377373    13.758954     0.840852  \n",
       "min       0.000000     0.000000     1.000000     0.170000     1.000000  \n",
       "25%       0.000000     7.895800   326.750000    21.000000     1.750000  \n",
       "50%       0.000000    14.454200   661.500000    28.000000     3.000000  \n",
       "75%       0.000000    31.275000   987.250000    37.750000     3.000000  \n",
       "max       9.000000   512.329200  1314.000000    74.000000     3.000000  "
      ]
     },
     "execution_count": 9,
     "metadata": {},
     "output_type": "execute_result"
    }
   ],
   "source": [
    "titanic.describe()"
   ]
  },
  {
   "cell_type": "code",
   "execution_count": 10,
   "metadata": {},
   "outputs": [
    {
     "data": {
      "text/plain": [
       "418"
      ]
     },
     "execution_count": 10,
     "metadata": {},
     "output_type": "execute_result"
    }
   ],
   "source": [
    "titanic[\"Survived\"].isnull().sum()  # count's the number of missing values or NAN values in each column"
   ]
  },
  {
   "cell_type": "code",
   "execution_count": 11,
   "metadata": {},
   "outputs": [
    {
     "data": {
      "text/plain": [
       "PassengerId     0.000000\n",
       "Survived       31.932773\n",
       "Pclass          0.000000\n",
       "Name            0.000000\n",
       "Sex             0.000000\n",
       "Age            20.091673\n",
       "SibSp           0.000000\n",
       "Parch           0.000000\n",
       "Ticket          0.000000\n",
       "Fare            0.076394\n",
       "Cabin          77.463713\n",
       "Embarked        0.152788\n",
       "WikiId          0.381971\n",
       "Name_wiki       0.381971\n",
       "Age_wiki        0.534759\n",
       "Hometown        0.381971\n",
       "Boarded         0.381971\n",
       "Destination     0.381971\n",
       "Lifeboat       61.650115\n",
       "Body           90.068755\n",
       "Class           0.381971\n",
       "dtype: float64"
      ]
     },
     "execution_count": 11,
     "metadata": {},
     "output_type": "execute_result"
    }
   ],
   "source": [
    "titanic.isnull().mean()*100      # to find the missing value percentage in each column."
   ]
  },
  {
   "cell_type": "markdown",
   "metadata": {},
   "source": [
    "## Feature Engineering"
   ]
  },
  {
   "cell_type": "code",
   "execution_count": 12,
   "metadata": {},
   "outputs": [],
   "source": [
    "titanic.drop(\"Class\", axis=1, inplace=True)   # to drop any column or you can say to remove any colummn."
   ]
  },
  {
   "cell_type": "code",
   "execution_count": 13,
   "metadata": {},
   "outputs": [],
   "source": [
    "#titanic.head()"
   ]
  },
  {
   "cell_type": "code",
   "execution_count": 14,
   "metadata": {},
   "outputs": [
    {
     "data": {
      "text/plain": [
       "array(['Southampton', 'Cherbourg', 'Queenstown', 'Belfast', nan],\n",
       "      dtype=object)"
      ]
     },
     "execution_count": 14,
     "metadata": {},
     "output_type": "execute_result"
    }
   ],
   "source": [
    "#titanic.head()\n",
    "titanic[\"Boarded\"].unique()  # to see all the diffrent type of discrit or categorical values prasent inside a particular column."
   ]
  },
  {
   "cell_type": "code",
   "execution_count": null,
   "metadata": {},
   "outputs": [],
   "source": []
  },
  {
   "cell_type": "code",
   "execution_count": 15,
   "metadata": {},
   "outputs": [
    {
     "data": {
      "text/html": [
       "<div>\n",
       "<style scoped>\n",
       "    .dataframe tbody tr th:only-of-type {\n",
       "        vertical-align: middle;\n",
       "    }\n",
       "\n",
       "    .dataframe tbody tr th {\n",
       "        vertical-align: top;\n",
       "    }\n",
       "\n",
       "    .dataframe thead th {\n",
       "        text-align: right;\n",
       "    }\n",
       "</style>\n",
       "<table border=\"1\" class=\"dataframe\">\n",
       "  <thead>\n",
       "    <tr style=\"text-align: right;\">\n",
       "      <th></th>\n",
       "      <th>PassengerId</th>\n",
       "      <th>Survived</th>\n",
       "      <th>Pclass</th>\n",
       "      <th>Name</th>\n",
       "      <th>Sex</th>\n",
       "      <th>Age</th>\n",
       "      <th>SibSp</th>\n",
       "      <th>Parch</th>\n",
       "      <th>Ticket</th>\n",
       "      <th>Fare</th>\n",
       "      <th>Cabin</th>\n",
       "      <th>Embarked</th>\n",
       "    </tr>\n",
       "  </thead>\n",
       "  <tbody>\n",
       "    <tr>\n",
       "      <th>0</th>\n",
       "      <td>1</td>\n",
       "      <td>0.0</td>\n",
       "      <td>3</td>\n",
       "      <td>Braund, Mr. Owen Harris</td>\n",
       "      <td>male</td>\n",
       "      <td>22.0</td>\n",
       "      <td>1</td>\n",
       "      <td>0</td>\n",
       "      <td>A/5 21171</td>\n",
       "      <td>7.2500</td>\n",
       "      <td>NaN</td>\n",
       "      <td>S</td>\n",
       "    </tr>\n",
       "    <tr>\n",
       "      <th>1</th>\n",
       "      <td>2</td>\n",
       "      <td>1.0</td>\n",
       "      <td>1</td>\n",
       "      <td>Cumings, Mrs. John Bradley (Florence Briggs Th...</td>\n",
       "      <td>female</td>\n",
       "      <td>38.0</td>\n",
       "      <td>1</td>\n",
       "      <td>0</td>\n",
       "      <td>PC 17599</td>\n",
       "      <td>71.2833</td>\n",
       "      <td>C85</td>\n",
       "      <td>C</td>\n",
       "    </tr>\n",
       "    <tr>\n",
       "      <th>2</th>\n",
       "      <td>3</td>\n",
       "      <td>1.0</td>\n",
       "      <td>3</td>\n",
       "      <td>Heikkinen, Miss. Laina</td>\n",
       "      <td>female</td>\n",
       "      <td>26.0</td>\n",
       "      <td>0</td>\n",
       "      <td>0</td>\n",
       "      <td>STON/O2. 3101282</td>\n",
       "      <td>7.9250</td>\n",
       "      <td>NaN</td>\n",
       "      <td>S</td>\n",
       "    </tr>\n",
       "    <tr>\n",
       "      <th>3</th>\n",
       "      <td>4</td>\n",
       "      <td>1.0</td>\n",
       "      <td>1</td>\n",
       "      <td>Futrelle, Mrs. Jacques Heath (Lily May Peel)</td>\n",
       "      <td>female</td>\n",
       "      <td>35.0</td>\n",
       "      <td>1</td>\n",
       "      <td>0</td>\n",
       "      <td>113803</td>\n",
       "      <td>53.1000</td>\n",
       "      <td>C123</td>\n",
       "      <td>S</td>\n",
       "    </tr>\n",
       "    <tr>\n",
       "      <th>4</th>\n",
       "      <td>5</td>\n",
       "      <td>0.0</td>\n",
       "      <td>3</td>\n",
       "      <td>Allen, Mr. William Henry</td>\n",
       "      <td>male</td>\n",
       "      <td>35.0</td>\n",
       "      <td>0</td>\n",
       "      <td>0</td>\n",
       "      <td>373450</td>\n",
       "      <td>8.0500</td>\n",
       "      <td>NaN</td>\n",
       "      <td>S</td>\n",
       "    </tr>\n",
       "  </tbody>\n",
       "</table>\n",
       "</div>"
      ],
      "text/plain": [
       "   PassengerId  Survived  Pclass  \\\n",
       "0            1       0.0       3   \n",
       "1            2       1.0       1   \n",
       "2            3       1.0       3   \n",
       "3            4       1.0       1   \n",
       "4            5       0.0       3   \n",
       "\n",
       "                                                Name     Sex   Age  SibSp  \\\n",
       "0                            Braund, Mr. Owen Harris    male  22.0      1   \n",
       "1  Cumings, Mrs. John Bradley (Florence Briggs Th...  female  38.0      1   \n",
       "2                             Heikkinen, Miss. Laina  female  26.0      0   \n",
       "3       Futrelle, Mrs. Jacques Heath (Lily May Peel)  female  35.0      1   \n",
       "4                           Allen, Mr. William Henry    male  35.0      0   \n",
       "\n",
       "   Parch            Ticket     Fare Cabin Embarked  \n",
       "0      0         A/5 21171   7.2500   NaN        S  \n",
       "1      0          PC 17599  71.2833   C85        C  \n",
       "2      0  STON/O2. 3101282   7.9250   NaN        S  \n",
       "3      0            113803  53.1000  C123        S  \n",
       "4      0            373450   8.0500   NaN        S  "
      ]
     },
     "execution_count": 15,
     "metadata": {},
     "output_type": "execute_result"
    }
   ],
   "source": [
    "titanic.drop([\"WikiId\",\"Name_wiki\",\"Age_wiki\",\"Hometown\",\"Boarded\",\"Destination\",\"Lifeboat\",\"Body\"],axis=1,inplace=True) \n",
    "#to drop multiple column at a time.\n",
    "titanic.head()"
   ]
  },
  {
   "cell_type": "code",
   "execution_count": 16,
   "metadata": {},
   "outputs": [],
   "source": [
    "titanic.drop([\"PassengerId\",\"Name\",\"Ticket\"],axis=1,inplace=True) "
   ]
  },
  {
   "cell_type": "code",
   "execution_count": 17,
   "metadata": {
    "scrolled": true
   },
   "outputs": [
    {
     "data": {
      "text/plain": [
       "Survived     418\n",
       "Pclass         0\n",
       "Sex            0\n",
       "Age          263\n",
       "SibSp          0\n",
       "Parch          0\n",
       "Fare           1\n",
       "Cabin       1014\n",
       "Embarked       2\n",
       "dtype: int64"
      ]
     },
     "execution_count": 17,
     "metadata": {},
     "output_type": "execute_result"
    }
   ],
   "source": [
    "titanic.isnull().sum()"
   ]
  },
  {
   "cell_type": "code",
   "execution_count": 18,
   "metadata": {},
   "outputs": [],
   "source": [
    "#titanic.info()"
   ]
  },
  {
   "cell_type": "code",
   "execution_count": 19,
   "metadata": {},
   "outputs": [],
   "source": [
    "titanic.dropna(subset=[\"Survived\"],inplace=True)"
   ]
  },
  {
   "cell_type": "code",
   "execution_count": 20,
   "metadata": {},
   "outputs": [
    {
     "data": {
      "text/plain": [
       "Survived     0.000000\n",
       "Pclass       0.000000\n",
       "Sex          0.000000\n",
       "Age         19.865320\n",
       "SibSp        0.000000\n",
       "Parch        0.000000\n",
       "Fare         0.000000\n",
       "Cabin       77.104377\n",
       "Embarked     0.224467\n",
       "dtype: float64"
      ]
     },
     "execution_count": 20,
     "metadata": {},
     "output_type": "execute_result"
    }
   ],
   "source": [
    "#\n",
    "titanic.isnull().mean()*100"
   ]
  },
  {
   "cell_type": "code",
   "execution_count": 21,
   "metadata": {},
   "outputs": [
    {
     "name": "stdout",
     "output_type": "stream",
     "text": [
      "<class 'pandas.core.frame.DataFrame'>\n",
      "Int64Index: 891 entries, 0 to 890\n",
      "Data columns (total 9 columns):\n",
      " #   Column    Non-Null Count  Dtype  \n",
      "---  ------    --------------  -----  \n",
      " 0   Survived  891 non-null    float64\n",
      " 1   Pclass    891 non-null    int64  \n",
      " 2   Sex       891 non-null    object \n",
      " 3   Age       714 non-null    float64\n",
      " 4   SibSp     891 non-null    int64  \n",
      " 5   Parch     891 non-null    int64  \n",
      " 6   Fare      891 non-null    float64\n",
      " 7   Cabin     204 non-null    object \n",
      " 8   Embarked  889 non-null    object \n",
      "dtypes: float64(3), int64(3), object(3)\n",
      "memory usage: 69.6+ KB\n"
     ]
    }
   ],
   "source": [
    "#\n",
    "titanic.info()"
   ]
  },
  {
   "cell_type": "code",
   "execution_count": 22,
   "metadata": {},
   "outputs": [],
   "source": [
    "#titanic.shape"
   ]
  },
  {
   "cell_type": "markdown",
   "metadata": {},
   "source": [
    "# Handeling missing values"
   ]
  },
  {
   "cell_type": "markdown",
   "metadata": {},
   "source": [
    "1. Handeling missing values.\n",
    "2. converting categorical values into descret values.\n",
    "3. data visualization.\n",
    "4. corelation among the label features.\n",
    "5. Building our model \n",
    "6. Hyperperameter optimization or hyperparameter tuning\n",
    "7. Boosting algorithm\n",
    "8. dont build overfitted models, (cross-validation score)"
   ]
  },
  {
   "cell_type": "markdown",
   "metadata": {},
   "source": [
    "## Handeling Missing Values.\n",
    "\n",
    "    1. You can directly drop those rows where ever missing values are present\n",
    "    2. you Impute the values.\n",
    "    \n",
    "    \n",
    "    type of missing values:\n",
    "        1. MCAR (missing completly at random)\n",
    "        2. MNAR (Missing data not at random)\n",
    "    \n",
    "    \n",
    "        1. -> mean/median Imputation\n",
    "        2. -> Random sample Imputation\n",
    "        3. -> Capturing NAN with a new feature\n",
    "        4. -> End of Distribution Imputation"
   ]
  },
  {
   "cell_type": "code",
   "execution_count": 23,
   "metadata": {},
   "outputs": [
    {
     "data": {
      "text/html": [
       "<div>\n",
       "<style scoped>\n",
       "    .dataframe tbody tr th:only-of-type {\n",
       "        vertical-align: middle;\n",
       "    }\n",
       "\n",
       "    .dataframe tbody tr th {\n",
       "        vertical-align: top;\n",
       "    }\n",
       "\n",
       "    .dataframe thead th {\n",
       "        text-align: right;\n",
       "    }\n",
       "</style>\n",
       "<table border=\"1\" class=\"dataframe\">\n",
       "  <thead>\n",
       "    <tr style=\"text-align: right;\">\n",
       "      <th></th>\n",
       "      <th>Survived</th>\n",
       "      <th>Pclass</th>\n",
       "      <th>Sex</th>\n",
       "      <th>Age</th>\n",
       "      <th>SibSp</th>\n",
       "      <th>Parch</th>\n",
       "      <th>Fare</th>\n",
       "      <th>Cabin</th>\n",
       "      <th>Embarked</th>\n",
       "      <th>Age_median</th>\n",
       "    </tr>\n",
       "  </thead>\n",
       "  <tbody>\n",
       "    <tr>\n",
       "      <th>0</th>\n",
       "      <td>0.0</td>\n",
       "      <td>3</td>\n",
       "      <td>male</td>\n",
       "      <td>22.0</td>\n",
       "      <td>1</td>\n",
       "      <td>0</td>\n",
       "      <td>7.2500</td>\n",
       "      <td>NaN</td>\n",
       "      <td>S</td>\n",
       "      <td>22.0</td>\n",
       "    </tr>\n",
       "    <tr>\n",
       "      <th>1</th>\n",
       "      <td>1.0</td>\n",
       "      <td>1</td>\n",
       "      <td>female</td>\n",
       "      <td>38.0</td>\n",
       "      <td>1</td>\n",
       "      <td>0</td>\n",
       "      <td>71.2833</td>\n",
       "      <td>C85</td>\n",
       "      <td>C</td>\n",
       "      <td>38.0</td>\n",
       "    </tr>\n",
       "    <tr>\n",
       "      <th>2</th>\n",
       "      <td>1.0</td>\n",
       "      <td>3</td>\n",
       "      <td>female</td>\n",
       "      <td>26.0</td>\n",
       "      <td>0</td>\n",
       "      <td>0</td>\n",
       "      <td>7.9250</td>\n",
       "      <td>NaN</td>\n",
       "      <td>S</td>\n",
       "      <td>26.0</td>\n",
       "    </tr>\n",
       "    <tr>\n",
       "      <th>3</th>\n",
       "      <td>1.0</td>\n",
       "      <td>1</td>\n",
       "      <td>female</td>\n",
       "      <td>35.0</td>\n",
       "      <td>1</td>\n",
       "      <td>0</td>\n",
       "      <td>53.1000</td>\n",
       "      <td>C123</td>\n",
       "      <td>S</td>\n",
       "      <td>35.0</td>\n",
       "    </tr>\n",
       "    <tr>\n",
       "      <th>4</th>\n",
       "      <td>0.0</td>\n",
       "      <td>3</td>\n",
       "      <td>male</td>\n",
       "      <td>35.0</td>\n",
       "      <td>0</td>\n",
       "      <td>0</td>\n",
       "      <td>8.0500</td>\n",
       "      <td>NaN</td>\n",
       "      <td>S</td>\n",
       "      <td>35.0</td>\n",
       "    </tr>\n",
       "  </tbody>\n",
       "</table>\n",
       "</div>"
      ],
      "text/plain": [
       "   Survived  Pclass     Sex   Age  SibSp  Parch     Fare Cabin Embarked  \\\n",
       "0       0.0       3    male  22.0      1      0   7.2500   NaN        S   \n",
       "1       1.0       1  female  38.0      1      0  71.2833   C85        C   \n",
       "2       1.0       3  female  26.0      0      0   7.9250   NaN        S   \n",
       "3       1.0       1  female  35.0      1      0  53.1000  C123        S   \n",
       "4       0.0       3    male  35.0      0      0   8.0500   NaN        S   \n",
       "\n",
       "   Age_median  \n",
       "0        22.0  \n",
       "1        38.0  \n",
       "2        26.0  \n",
       "3        35.0  \n",
       "4        35.0  "
      ]
     },
     "execution_count": 23,
     "metadata": {},
     "output_type": "execute_result"
    }
   ],
   "source": [
    "## Mean/ Midean Imputation\n",
    "\n",
    "# we try to replace the missing values or we impute the missing values using the mean or the meandian.\n",
    "\n",
    "titanic[\"Age_median\"] = titanic['Age'] \n",
    "titanic[\"Age_median\"].fillna(titanic[\"Age_median\"].median(),inplace=True) # i am replacing the missing values with the median()\n",
    "\n",
    "titanic.head()"
   ]
  },
  {
   "cell_type": "code",
   "execution_count": 24,
   "metadata": {},
   "outputs": [
    {
     "data": {
      "text/plain": [
       "14.526497332334042"
      ]
     },
     "execution_count": 24,
     "metadata": {},
     "output_type": "execute_result"
    }
   ],
   "source": [
    "titanic[\"Age\"].std()"
   ]
  },
  {
   "cell_type": "code",
   "execution_count": 25,
   "metadata": {},
   "outputs": [
    {
     "data": {
      "text/plain": [
       "13.019696550973201"
      ]
     },
     "execution_count": 25,
     "metadata": {},
     "output_type": "execute_result"
    }
   ],
   "source": [
    "titanic[\"Age_median\"].std()"
   ]
  },
  {
   "cell_type": "code",
   "execution_count": 26,
   "metadata": {},
   "outputs": [
    {
     "data": {
      "text/plain": [
       "<matplotlib.legend.Legend at 0x2389d3ed488>"
      ]
     },
     "execution_count": 26,
     "metadata": {},
     "output_type": "execute_result"
    },
    {
     "data": {
      "image/png": "[encoded data removed]",
      "text/plain": [
       "<Figure size 432x288 with 1 Axes>"
      ]
     },
     "metadata": {
      "needs_background": "light"
     },
     "output_type": "display_data"
    }
   ],
   "source": [
    "import matplotlib.pyplot as plt\n",
    "\n",
    "fig = plt.figure()\n",
    "ax = fig.add_subplot(111)\n",
    "titanic[\"Age\"].plot(kind = \"kde\", ax = ax)\n",
    "titanic[\"Age_median\"].plot(kind=\"kde\", ax=ax, color=\"green\")\n",
    "line, labels = ax.get_legend_handles_labels()\n",
    "ax.legend(line,labels,loc = \"best\")"
   ]
  },
  {
   "cell_type": "code",
   "execution_count": 27,
   "metadata": {},
   "outputs": [],
   "source": [
    "#titanic[\"Age_random\"].dropna().sample()\n",
    "#titanic[\"Age_random\"].isnull().sum()"
   ]
  },
  {
   "cell_type": "code",
   "execution_count": 28,
   "metadata": {},
   "outputs": [
    {
     "data": {
      "text/plain": [
       "Survived        0\n",
       "Pclass          0\n",
       "Sex             0\n",
       "Age           177\n",
       "SibSp           0\n",
       "Parch           0\n",
       "Fare            0\n",
       "Cabin         687\n",
       "Embarked        2\n",
       "Age_median      0\n",
       "Age_random      0\n",
       "dtype: int64"
      ]
     },
     "execution_count": 28,
     "metadata": {},
     "output_type": "execute_result"
    }
   ],
   "source": [
    "## Random sample Imputation\n",
    "\n",
    "titanic[\"Age_random\"] = titanic[\"Age\"] # we are copying all the values present inside the age column into the age_random column\n",
    "random_samples = titanic[\"Age_random\"].dropna().sample(titanic[\"Age_random\"].isnull().sum(), random_state=42)\n",
    "random_samples.index = titanic[titanic[\"Age_random\"].isnull()].index\n",
    "titanic.loc[titanic[\"Age_random\"].isnull(),\"Age_random\"]=random_samples\n",
    "\n",
    "titanic.isnull().sum()"
   ]
  },
  {
   "cell_type": "code",
   "execution_count": 29,
   "metadata": {},
   "outputs": [
    {
     "data": {
      "text/plain": [
       "714"
      ]
     },
     "execution_count": 29,
     "metadata": {},
     "output_type": "execute_result"
    }
   ],
   "source": [
    "891-177"
   ]
  },
  {
   "cell_type": "code",
   "execution_count": 30,
   "metadata": {},
   "outputs": [
    {
     "data": {
      "text/plain": [
       "14.526497332334042"
      ]
     },
     "execution_count": 30,
     "metadata": {},
     "output_type": "execute_result"
    }
   ],
   "source": [
    "titanic[\"Age\"].std()"
   ]
  },
  {
   "cell_type": "code",
   "execution_count": 31,
   "metadata": {},
   "outputs": [
    {
     "data": {
      "text/plain": [
       "14.295286948654619"
      ]
     },
     "execution_count": 31,
     "metadata": {},
     "output_type": "execute_result"
    }
   ],
   "source": [
    "titanic[\"Age_random\"].std()"
   ]
  },
  {
   "cell_type": "code",
   "execution_count": 32,
   "metadata": {},
   "outputs": [
    {
     "data": {
      "text/plain": [
       "13.019696550973201"
      ]
     },
     "execution_count": 32,
     "metadata": {},
     "output_type": "execute_result"
    }
   ],
   "source": [
    "titanic[\"Age_median\"].std()"
   ]
  },
  {
   "cell_type": "code",
   "execution_count": 33,
   "metadata": {},
   "outputs": [
    {
     "data": {
      "text/plain": [
       "<matplotlib.legend.Legend at 0x238a73918c8>"
      ]
     },
     "execution_count": 33,
     "metadata": {},
     "output_type": "execute_result"
    },
    {
     "data": {
      "image/png": "[encoded data removed]",
      "text/plain": [
       "<Figure size 432x288 with 1 Axes>"
      ]
     },
     "metadata": {
      "needs_background": "light"
     },
     "output_type": "display_data"
    }
   ],
   "source": [
    "fig = plt.figure()\n",
    "ax = fig.add_subplot(111)\n",
    "titanic[\"Age\"].plot(kind = \"kde\", ax = ax)\n",
    "titanic[\"Age_median\"].plot(kind=\"kde\", ax=ax, color=\"green\")\n",
    "titanic[\"Age_random\"].plot(kind=\"kde\", ax=ax, color=\"red\")\n",
    "line, labels = ax.get_legend_handles_labels()\n",
    "ax.legend(line,labels,loc = \"best\")"
   ]
  },
  {
   "cell_type": "code",
   "execution_count": 34,
   "metadata": {},
   "outputs": [],
   "source": [
    "#titanic.isnull().sum()"
   ]
  },
  {
   "cell_type": "code",
   "execution_count": 35,
   "metadata": {},
   "outputs": [
    {
     "data": {
      "text/plain": [
       "<AxesSubplot:>"
      ]
     },
     "execution_count": 35,
     "metadata": {},
     "output_type": "execute_result"
    },
    {
     "data": {
      "image/png": "[encoded data removed]",
      "text/plain": [
       "<Figure size 432x288 with 1 Axes>"
      ]
     },
     "metadata": {
      "needs_background": "light"
     },
     "output_type": "display_data"
    }
   ],
   "source": [
    "import seaborn as sns\n",
    "sns.heatmap(titanic.isnull(),yticklabels='auto',cbar=False,cmap=\"brg\")"
   ]
  },
  {
   "cell_type": "code",
   "execution_count": 36,
   "metadata": {},
   "outputs": [
    {
     "data": {
      "text/plain": [
       "0.002244668911335578"
      ]
     },
     "execution_count": 36,
     "metadata": {},
     "output_type": "execute_result"
    }
   ],
   "source": [
    "2/891"
   ]
  },
  {
   "cell_type": "code",
   "execution_count": 37,
   "metadata": {},
   "outputs": [
    {
     "data": {
      "text/plain": [
       "array([nan, 'C85', 'C123', 'E46', 'G6', 'C103', 'D56', 'A6',\n",
       "       'C23 C25 C27', 'B78', 'D33', 'B30', 'C52', 'B28', 'C83', 'F33',\n",
       "       'F G73', 'E31', 'A5', 'D10 D12', 'D26', 'C110', 'B58 B60', 'E101',\n",
       "       'F E69', 'D47', 'B86', 'F2', 'C2', 'E33', 'B19', 'A7', 'C49', 'F4',\n",
       "       'A32', 'B4', 'B80', 'A31', 'D36', 'D15', 'C93', 'C78', 'D35',\n",
       "       'C87', 'B77', 'E67', 'B94', 'C125', 'C99', 'C118', 'D7', 'A19',\n",
       "       'B49', 'D', 'C22 C26', 'C106', 'C65', 'E36', 'C54',\n",
       "       'B57 B59 B63 B66', 'C7', 'E34', 'C32', 'B18', 'C124', 'C91', 'E40',\n",
       "       'T', 'C128', 'D37', 'B35', 'E50', 'C82', 'B96 B98', 'E10', 'E44',\n",
       "       'A34', 'C104', 'C111', 'C92', 'E38', 'D21', 'E12', 'E63', 'A14',\n",
       "       'B37', 'C30', 'D20', 'B79', 'E25', 'D46', 'B73', 'C95', 'B38',\n",
       "       'B39', 'B22', 'C86', 'C70', 'A16', 'C101', 'C68', 'A10', 'E68',\n",
       "       'B41', 'A20', 'D19', 'D50', 'D9', 'A23', 'B50', 'A26', 'D48',\n",
       "       'E58', 'C126', 'B71', 'B51 B53 B55', 'D49', 'B5', 'B20', 'F G63',\n",
       "       'C62 C64', 'E24', 'C90', 'C45', 'E8', 'B101', 'D45', 'C46', 'D30',\n",
       "       'E121', 'D11', 'E77', 'F38', 'B3', 'D6', 'B82 B84', 'D17', 'A36',\n",
       "       'B102', 'B69', 'E49', 'C47', 'D28', 'E17', 'A24', 'C50', 'B42',\n",
       "       'C148'], dtype=object)"
      ]
     },
     "execution_count": 37,
     "metadata": {},
     "output_type": "execute_result"
    }
   ],
   "source": [
    "titanic[\"Cabin\"].unique()    # this show the unique values in a particular column."
   ]
  },
  {
   "cell_type": "code",
   "execution_count": 38,
   "metadata": {},
   "outputs": [],
   "source": [
    "titanic[\"Age\"]=titanic[\"Age_random\"]\n",
    "titanic.drop(['Cabin','Age_random','Age_median'],axis=1,inplace=True)"
   ]
  },
  {
   "cell_type": "code",
   "execution_count": 39,
   "metadata": {},
   "outputs": [],
   "source": [
    "# Imputing the Embarked column.\n",
    "\n",
    "# imputing Catagorical values\n",
    "#  -> Frequency Imputation/Mode imputation.\n",
    "\n",
    "titanic[\"Embarked\"].unique()\n",
    "titanic[\"Embarked\"].fillna(titanic[\"Embarked\"].mode()[0], inplace=True)"
   ]
  },
  {
   "cell_type": "code",
   "execution_count": 40,
   "metadata": {},
   "outputs": [
    {
     "data": {
      "text/plain": [
       "array(['S', 'C', 'Q'], dtype=object)"
      ]
     },
     "execution_count": 40,
     "metadata": {},
     "output_type": "execute_result"
    }
   ],
   "source": [
    "titanic[\"Embarked\"].unique()"
   ]
  },
  {
   "cell_type": "code",
   "execution_count": null,
   "metadata": {},
   "outputs": [],
   "source": []
  },
  {
   "cell_type": "markdown",
   "metadata": {},
   "source": [
    "# Data Vizualization"
   ]
  },
  {
   "cell_type": "code",
   "execution_count": 41,
   "metadata": {},
   "outputs": [
    {
     "name": "stdout",
     "output_type": "stream",
     "text": [
      "0.0    549\n",
      "1.0    342\n",
      "Name: Survived, dtype: int64\n"
     ]
    },
    {
     "data": {
      "text/plain": [
       "<AxesSubplot:xlabel='Survived', ylabel='count'>"
      ]
     },
     "execution_count": 41,
     "metadata": {},
     "output_type": "execute_result"
    },
    {
     "data": {
      "image/png": "[encoded data removed]",
      "text/plain": [
       "<Figure size 432x288 with 1 Axes>"
      ]
     },
     "metadata": {
      "needs_background": "light"
     },
     "output_type": "display_data"
    }
   ],
   "source": [
    "# Number of person survived and number of person dinot survived.\n",
    "print(titanic['Survived'].value_counts())\n",
    "sns.countplot(x='Survived',data=titanic)"
   ]
  },
  {
   "cell_type": "code",
   "execution_count": 42,
   "metadata": {},
   "outputs": [
    {
     "data": {
      "text/plain": [
       "<AxesSubplot:xlabel='Survived', ylabel='count'>"
      ]
     },
     "execution_count": 42,
     "metadata": {},
     "output_type": "execute_result"
    },
    {
     "data": {
      "image/png": "[encoded data removed]",
      "text/plain": [
       "<Figure size 432x288 with 1 Axes>"
      ]
     },
     "metadata": {
      "needs_background": "light"
     },
     "output_type": "display_data"
    }
   ],
   "source": [
    "sns.countplot(x='Survived', hue='Sex', data=titanic)"
   ]
  },
  {
   "cell_type": "code",
   "execution_count": 43,
   "metadata": {},
   "outputs": [
    {
     "data": {
      "text/plain": [
       "<AxesSubplot:xlabel='Survived', ylabel='count'>"
      ]
     },
     "execution_count": 43,
     "metadata": {},
     "output_type": "execute_result"
    },
    {
     "data": {
      "image/png": "[encoded data removed]",
      "text/plain": [
       "<Figure size 432x288 with 1 Axes>"
      ]
     },
     "metadata": {
      "needs_background": "light"
     },
     "output_type": "display_data"
    }
   ],
   "source": [
    "sns.countplot(x='Survived', hue='Embarked', data=titanic)"
   ]
  },
  {
   "cell_type": "code",
   "execution_count": 44,
   "metadata": {},
   "outputs": [
    {
     "data": {
      "text/plain": [
       "array([3, 1, 2], dtype=int64)"
      ]
     },
     "execution_count": 44,
     "metadata": {},
     "output_type": "execute_result"
    }
   ],
   "source": [
    "titanic[\"Pclass\"].unique()"
   ]
  },
  {
   "cell_type": "code",
   "execution_count": 45,
   "metadata": {},
   "outputs": [
    {
     "data": {
      "text/plain": [
       "<AxesSubplot:xlabel='Survived', ylabel='count'>"
      ]
     },
     "execution_count": 45,
     "metadata": {},
     "output_type": "execute_result"
    },
    {
     "data": {
      "image/png": "[encoded data removed]",
      "text/plain": [
       "<Figure size 432x288 with 1 Axes>"
      ]
     },
     "metadata": {
      "needs_background": "light"
     },
     "output_type": "display_data"
    }
   ],
   "source": [
    "sns.countplot(x='Survived',hue=\"Pclass\", data = titanic)"
   ]
  },
  {
   "cell_type": "code",
   "execution_count": 46,
   "metadata": {},
   "outputs": [
    {
     "data": {
      "text/plain": [
       "<AxesSubplot:xlabel='Pclass', ylabel='Age'>"
      ]
     },
     "execution_count": 46,
     "metadata": {},
     "output_type": "execute_result"
    },
    {
     "data": {
      "image/png": "[encoded data removed]",
      "text/plain": [
       "<Figure size 864x576 with 1 Axes>"
      ]
     },
     "metadata": {
      "needs_background": "light"
     },
     "output_type": "display_data"
    }
   ],
   "source": [
    "plt.figure(figsize=(12,8))\n",
    "sns.boxplot(x='Pclass',y='Age',data=titanic)"
   ]
  },
  {
   "cell_type": "code",
   "execution_count": 47,
   "metadata": {},
   "outputs": [
    {
     "data": {
      "text/html": [
       "<div>\n",
       "<style scoped>\n",
       "    .dataframe tbody tr th:only-of-type {\n",
       "        vertical-align: middle;\n",
       "    }\n",
       "\n",
       "    .dataframe tbody tr th {\n",
       "        vertical-align: top;\n",
       "    }\n",
       "\n",
       "    .dataframe thead th {\n",
       "        text-align: right;\n",
       "    }\n",
       "</style>\n",
       "<table border=\"1\" class=\"dataframe\">\n",
       "  <thead>\n",
       "    <tr style=\"text-align: right;\">\n",
       "      <th></th>\n",
       "      <th>Survived</th>\n",
       "      <th>Pclass</th>\n",
       "      <th>Age</th>\n",
       "      <th>SibSp</th>\n",
       "      <th>Parch</th>\n",
       "      <th>Fare</th>\n",
       "    </tr>\n",
       "  </thead>\n",
       "  <tbody>\n",
       "    <tr>\n",
       "      <th>Survived</th>\n",
       "      <td>1.000000</td>\n",
       "      <td>-0.338481</td>\n",
       "      <td>-0.037274</td>\n",
       "      <td>-0.035322</td>\n",
       "      <td>0.081629</td>\n",
       "      <td>0.257307</td>\n",
       "    </tr>\n",
       "    <tr>\n",
       "      <th>Pclass</th>\n",
       "      <td>-0.338481</td>\n",
       "      <td>1.000000</td>\n",
       "      <td>-0.316751</td>\n",
       "      <td>0.083081</td>\n",
       "      <td>0.018443</td>\n",
       "      <td>-0.549500</td>\n",
       "    </tr>\n",
       "    <tr>\n",
       "      <th>Age</th>\n",
       "      <td>-0.037274</td>\n",
       "      <td>-0.316751</td>\n",
       "      <td>1.000000</td>\n",
       "      <td>-0.197542</td>\n",
       "      <td>-0.151207</td>\n",
       "      <td>0.096614</td>\n",
       "    </tr>\n",
       "    <tr>\n",
       "      <th>SibSp</th>\n",
       "      <td>-0.035322</td>\n",
       "      <td>0.083081</td>\n",
       "      <td>-0.197542</td>\n",
       "      <td>1.000000</td>\n",
       "      <td>0.414838</td>\n",
       "      <td>0.159651</td>\n",
       "    </tr>\n",
       "    <tr>\n",
       "      <th>Parch</th>\n",
       "      <td>0.081629</td>\n",
       "      <td>0.018443</td>\n",
       "      <td>-0.151207</td>\n",
       "      <td>0.414838</td>\n",
       "      <td>1.000000</td>\n",
       "      <td>0.216225</td>\n",
       "    </tr>\n",
       "    <tr>\n",
       "      <th>Fare</th>\n",
       "      <td>0.257307</td>\n",
       "      <td>-0.549500</td>\n",
       "      <td>0.096614</td>\n",
       "      <td>0.159651</td>\n",
       "      <td>0.216225</td>\n",
       "      <td>1.000000</td>\n",
       "    </tr>\n",
       "  </tbody>\n",
       "</table>\n",
       "</div>"
      ],
      "text/plain": [
       "          Survived    Pclass       Age     SibSp     Parch      Fare\n",
       "Survived  1.000000 -0.338481 -0.037274 -0.035322  0.081629  0.257307\n",
       "Pclass   -0.338481  1.000000 -0.316751  0.083081  0.018443 -0.549500\n",
       "Age      -0.037274 -0.316751  1.000000 -0.197542 -0.151207  0.096614\n",
       "SibSp    -0.035322  0.083081 -0.197542  1.000000  0.414838  0.159651\n",
       "Parch     0.081629  0.018443 -0.151207  0.414838  1.000000  0.216225\n",
       "Fare      0.257307 -0.549500  0.096614  0.159651  0.216225  1.000000"
      ]
     },
     "execution_count": 47,
     "metadata": {},
     "output_type": "execute_result"
    }
   ],
   "source": [
    "titanic.corr()"
   ]
  },
  {
   "cell_type": "code",
   "execution_count": 48,
   "metadata": {},
   "outputs": [
    {
     "data": {
      "text/plain": [
       "<AxesSubplot:>"
      ]
     },
     "execution_count": 48,
     "metadata": {},
     "output_type": "execute_result"
    },
    {
     "data": {
      "image/png": "[encoded data removed]",
      "text/plain": [
       "<Figure size 432x288 with 2 Axes>"
      ]
     },
     "metadata": {
      "needs_background": "light"
     },
     "output_type": "display_data"
    }
   ],
   "source": [
    "sns.heatmap(titanic.corr(), annot=True, linewidth=0.5)"
   ]
  },
  {
   "cell_type": "code",
   "execution_count": 49,
   "metadata": {},
   "outputs": [
    {
     "data": {
      "text/plain": [
       "<seaborn.axisgrid.PairGrid at 0x238a79d8d08>"
      ]
     },
     "execution_count": 49,
     "metadata": {},
     "output_type": "execute_result"
    },
    {
     "data": {
      "image/png": "[encoded data removed]",
      "text/plain": [
       "<Figure size 412x360 with 6 Axes>"
      ]
     },
     "metadata": {
      "needs_background": "light"
     },
     "output_type": "display_data"
    }
   ],
   "source": [
    "sns.pairplot(titanic, hue=\"Survived\", vars=[\"Pclass\",\"Age\"])"
   ]
  },
  {
   "cell_type": "code",
   "execution_count": 50,
   "metadata": {},
   "outputs": [
    {
     "data": {
      "text/html": [
       "<div>\n",
       "<style scoped>\n",
       "    .dataframe tbody tr th:only-of-type {\n",
       "        vertical-align: middle;\n",
       "    }\n",
       "\n",
       "    .dataframe tbody tr th {\n",
       "        vertical-align: top;\n",
       "    }\n",
       "\n",
       "    .dataframe thead th {\n",
       "        text-align: right;\n",
       "    }\n",
       "</style>\n",
       "<table border=\"1\" class=\"dataframe\">\n",
       "  <thead>\n",
       "    <tr style=\"text-align: right;\">\n",
       "      <th></th>\n",
       "      <th>Survived</th>\n",
       "      <th>Pclass</th>\n",
       "      <th>Sex</th>\n",
       "      <th>Age</th>\n",
       "      <th>SibSp</th>\n",
       "      <th>Parch</th>\n",
       "      <th>Fare</th>\n",
       "      <th>Embarked</th>\n",
       "    </tr>\n",
       "  </thead>\n",
       "  <tbody>\n",
       "    <tr>\n",
       "      <th>0</th>\n",
       "      <td>0.0</td>\n",
       "      <td>3</td>\n",
       "      <td>male</td>\n",
       "      <td>22.0</td>\n",
       "      <td>1</td>\n",
       "      <td>0</td>\n",
       "      <td>7.2500</td>\n",
       "      <td>S</td>\n",
       "    </tr>\n",
       "    <tr>\n",
       "      <th>1</th>\n",
       "      <td>1.0</td>\n",
       "      <td>1</td>\n",
       "      <td>female</td>\n",
       "      <td>38.0</td>\n",
       "      <td>1</td>\n",
       "      <td>0</td>\n",
       "      <td>71.2833</td>\n",
       "      <td>C</td>\n",
       "    </tr>\n",
       "    <tr>\n",
       "      <th>2</th>\n",
       "      <td>1.0</td>\n",
       "      <td>3</td>\n",
       "      <td>female</td>\n",
       "      <td>26.0</td>\n",
       "      <td>0</td>\n",
       "      <td>0</td>\n",
       "      <td>7.9250</td>\n",
       "      <td>S</td>\n",
       "    </tr>\n",
       "    <tr>\n",
       "      <th>3</th>\n",
       "      <td>1.0</td>\n",
       "      <td>1</td>\n",
       "      <td>female</td>\n",
       "      <td>35.0</td>\n",
       "      <td>1</td>\n",
       "      <td>0</td>\n",
       "      <td>53.1000</td>\n",
       "      <td>S</td>\n",
       "    </tr>\n",
       "    <tr>\n",
       "      <th>4</th>\n",
       "      <td>0.0</td>\n",
       "      <td>3</td>\n",
       "      <td>male</td>\n",
       "      <td>35.0</td>\n",
       "      <td>0</td>\n",
       "      <td>0</td>\n",
       "      <td>8.0500</td>\n",
       "      <td>S</td>\n",
       "    </tr>\n",
       "  </tbody>\n",
       "</table>\n",
       "</div>"
      ],
      "text/plain": [
       "   Survived  Pclass     Sex   Age  SibSp  Parch     Fare Embarked\n",
       "0       0.0       3    male  22.0      1      0   7.2500        S\n",
       "1       1.0       1  female  38.0      1      0  71.2833        C\n",
       "2       1.0       3  female  26.0      0      0   7.9250        S\n",
       "3       1.0       1  female  35.0      1      0  53.1000        S\n",
       "4       0.0       3    male  35.0      0      0   8.0500        S"
      ]
     },
     "execution_count": 50,
     "metadata": {},
     "output_type": "execute_result"
    }
   ],
   "source": [
    "titanic.head()"
   ]
  },
  {
   "cell_type": "code",
   "execution_count": 51,
   "metadata": {},
   "outputs": [],
   "source": [
    "# Handeling Categorical features\n",
    "\n",
    "# ---> One hot encoding\n",
    "#  ---> Ordinal number encoding\n",
    "#  ---> Label encoder"
   ]
  },
  {
   "cell_type": "code",
   "execution_count": 52,
   "metadata": {},
   "outputs": [
    {
     "data": {
      "text/html": [
       "<div>\n",
       "<style scoped>\n",
       "    .dataframe tbody tr th:only-of-type {\n",
       "        vertical-align: middle;\n",
       "    }\n",
       "\n",
       "    .dataframe tbody tr th {\n",
       "        vertical-align: top;\n",
       "    }\n",
       "\n",
       "    .dataframe thead th {\n",
       "        text-align: right;\n",
       "    }\n",
       "</style>\n",
       "<table border=\"1\" class=\"dataframe\">\n",
       "  <thead>\n",
       "    <tr style=\"text-align: right;\">\n",
       "      <th></th>\n",
       "      <th>Q</th>\n",
       "      <th>S</th>\n",
       "    </tr>\n",
       "  </thead>\n",
       "  <tbody>\n",
       "    <tr>\n",
       "      <th>0</th>\n",
       "      <td>0</td>\n",
       "      <td>1</td>\n",
       "    </tr>\n",
       "    <tr>\n",
       "      <th>1</th>\n",
       "      <td>0</td>\n",
       "      <td>0</td>\n",
       "    </tr>\n",
       "    <tr>\n",
       "      <th>2</th>\n",
       "      <td>0</td>\n",
       "      <td>1</td>\n",
       "    </tr>\n",
       "    <tr>\n",
       "      <th>3</th>\n",
       "      <td>0</td>\n",
       "      <td>1</td>\n",
       "    </tr>\n",
       "    <tr>\n",
       "      <th>4</th>\n",
       "      <td>0</td>\n",
       "      <td>1</td>\n",
       "    </tr>\n",
       "    <tr>\n",
       "      <th>...</th>\n",
       "      <td>...</td>\n",
       "      <td>...</td>\n",
       "    </tr>\n",
       "    <tr>\n",
       "      <th>886</th>\n",
       "      <td>0</td>\n",
       "      <td>1</td>\n",
       "    </tr>\n",
       "    <tr>\n",
       "      <th>887</th>\n",
       "      <td>0</td>\n",
       "      <td>1</td>\n",
       "    </tr>\n",
       "    <tr>\n",
       "      <th>888</th>\n",
       "      <td>0</td>\n",
       "      <td>1</td>\n",
       "    </tr>\n",
       "    <tr>\n",
       "      <th>889</th>\n",
       "      <td>0</td>\n",
       "      <td>0</td>\n",
       "    </tr>\n",
       "    <tr>\n",
       "      <th>890</th>\n",
       "      <td>1</td>\n",
       "      <td>0</td>\n",
       "    </tr>\n",
       "  </tbody>\n",
       "</table>\n",
       "<p>891 rows × 2 columns</p>\n",
       "</div>"
      ],
      "text/plain": [
       "     Q  S\n",
       "0    0  1\n",
       "1    0  0\n",
       "2    0  1\n",
       "3    0  1\n",
       "4    0  1\n",
       "..  .. ..\n",
       "886  0  1\n",
       "887  0  1\n",
       "888  0  1\n",
       "889  0  0\n",
       "890  1  0\n",
       "\n",
       "[891 rows x 2 columns]"
      ]
     },
     "execution_count": 52,
     "metadata": {},
     "output_type": "execute_result"
    }
   ],
   "source": [
    "# one hot encodding\n",
    "\n",
    "\n",
    "Embarked1 = pd.get_dummies(titanic[\"Embarked\"],drop_first=True)\n",
    "Embarked1\n",
    "\n",
    "\n",
    "#titanic = pd.concat([titanic,Embarked1],axis=1)"
   ]
  },
  {
   "cell_type": "code",
   "execution_count": 53,
   "metadata": {},
   "outputs": [
    {
     "data": {
      "text/html": [
       "<div>\n",
       "<style scoped>\n",
       "    .dataframe tbody tr th:only-of-type {\n",
       "        vertical-align: middle;\n",
       "    }\n",
       "\n",
       "    .dataframe tbody tr th {\n",
       "        vertical-align: top;\n",
       "    }\n",
       "\n",
       "    .dataframe thead th {\n",
       "        text-align: right;\n",
       "    }\n",
       "</style>\n",
       "<table border=\"1\" class=\"dataframe\">\n",
       "  <thead>\n",
       "    <tr style=\"text-align: right;\">\n",
       "      <th></th>\n",
       "      <th>Q</th>\n",
       "      <th>S</th>\n",
       "    </tr>\n",
       "  </thead>\n",
       "  <tbody>\n",
       "    <tr>\n",
       "      <th>0</th>\n",
       "      <td>0</td>\n",
       "      <td>1</td>\n",
       "    </tr>\n",
       "    <tr>\n",
       "      <th>1</th>\n",
       "      <td>0</td>\n",
       "      <td>0</td>\n",
       "    </tr>\n",
       "    <tr>\n",
       "      <th>2</th>\n",
       "      <td>0</td>\n",
       "      <td>1</td>\n",
       "    </tr>\n",
       "    <tr>\n",
       "      <th>3</th>\n",
       "      <td>0</td>\n",
       "      <td>1</td>\n",
       "    </tr>\n",
       "    <tr>\n",
       "      <th>4</th>\n",
       "      <td>0</td>\n",
       "      <td>1</td>\n",
       "    </tr>\n",
       "    <tr>\n",
       "      <th>...</th>\n",
       "      <td>...</td>\n",
       "      <td>...</td>\n",
       "    </tr>\n",
       "    <tr>\n",
       "      <th>886</th>\n",
       "      <td>0</td>\n",
       "      <td>1</td>\n",
       "    </tr>\n",
       "    <tr>\n",
       "      <th>887</th>\n",
       "      <td>0</td>\n",
       "      <td>1</td>\n",
       "    </tr>\n",
       "    <tr>\n",
       "      <th>888</th>\n",
       "      <td>0</td>\n",
       "      <td>1</td>\n",
       "    </tr>\n",
       "    <tr>\n",
       "      <th>889</th>\n",
       "      <td>0</td>\n",
       "      <td>0</td>\n",
       "    </tr>\n",
       "    <tr>\n",
       "      <th>890</th>\n",
       "      <td>1</td>\n",
       "      <td>0</td>\n",
       "    </tr>\n",
       "  </tbody>\n",
       "</table>\n",
       "<p>891 rows × 2 columns</p>\n",
       "</div>"
      ],
      "text/plain": [
       "     Q  S\n",
       "0    0  1\n",
       "1    0  0\n",
       "2    0  1\n",
       "3    0  1\n",
       "4    0  1\n",
       "..  .. ..\n",
       "886  0  1\n",
       "887  0  1\n",
       "888  0  1\n",
       "889  0  0\n",
       "890  1  0\n",
       "\n",
       "[891 rows x 2 columns]"
      ]
     },
     "execution_count": 53,
     "metadata": {},
     "output_type": "execute_result"
    }
   ],
   "source": [
    "Embarked1"
   ]
  },
  {
   "cell_type": "code",
   "execution_count": 54,
   "metadata": {},
   "outputs": [
    {
     "data": {
      "text/html": [
       "<div>\n",
       "<style scoped>\n",
       "    .dataframe tbody tr th:only-of-type {\n",
       "        vertical-align: middle;\n",
       "    }\n",
       "\n",
       "    .dataframe tbody tr th {\n",
       "        vertical-align: top;\n",
       "    }\n",
       "\n",
       "    .dataframe thead th {\n",
       "        text-align: right;\n",
       "    }\n",
       "</style>\n",
       "<table border=\"1\" class=\"dataframe\">\n",
       "  <thead>\n",
       "    <tr style=\"text-align: right;\">\n",
       "      <th></th>\n",
       "      <th>Survived</th>\n",
       "      <th>Pclass</th>\n",
       "      <th>Sex</th>\n",
       "      <th>Age</th>\n",
       "      <th>SibSp</th>\n",
       "      <th>Parch</th>\n",
       "      <th>Fare</th>\n",
       "      <th>Embarked</th>\n",
       "    </tr>\n",
       "  </thead>\n",
       "  <tbody>\n",
       "    <tr>\n",
       "      <th>0</th>\n",
       "      <td>0.0</td>\n",
       "      <td>3</td>\n",
       "      <td>male</td>\n",
       "      <td>22.0</td>\n",
       "      <td>1</td>\n",
       "      <td>0</td>\n",
       "      <td>7.2500</td>\n",
       "      <td>S</td>\n",
       "    </tr>\n",
       "    <tr>\n",
       "      <th>1</th>\n",
       "      <td>1.0</td>\n",
       "      <td>1</td>\n",
       "      <td>female</td>\n",
       "      <td>38.0</td>\n",
       "      <td>1</td>\n",
       "      <td>0</td>\n",
       "      <td>71.2833</td>\n",
       "      <td>C</td>\n",
       "    </tr>\n",
       "    <tr>\n",
       "      <th>2</th>\n",
       "      <td>1.0</td>\n",
       "      <td>3</td>\n",
       "      <td>female</td>\n",
       "      <td>26.0</td>\n",
       "      <td>0</td>\n",
       "      <td>0</td>\n",
       "      <td>7.9250</td>\n",
       "      <td>S</td>\n",
       "    </tr>\n",
       "    <tr>\n",
       "      <th>3</th>\n",
       "      <td>1.0</td>\n",
       "      <td>1</td>\n",
       "      <td>female</td>\n",
       "      <td>35.0</td>\n",
       "      <td>1</td>\n",
       "      <td>0</td>\n",
       "      <td>53.1000</td>\n",
       "      <td>S</td>\n",
       "    </tr>\n",
       "    <tr>\n",
       "      <th>4</th>\n",
       "      <td>0.0</td>\n",
       "      <td>3</td>\n",
       "      <td>male</td>\n",
       "      <td>35.0</td>\n",
       "      <td>0</td>\n",
       "      <td>0</td>\n",
       "      <td>8.0500</td>\n",
       "      <td>S</td>\n",
       "    </tr>\n",
       "  </tbody>\n",
       "</table>\n",
       "</div>"
      ],
      "text/plain": [
       "   Survived  Pclass     Sex   Age  SibSp  Parch     Fare Embarked\n",
       "0       0.0       3    male  22.0      1      0   7.2500        S\n",
       "1       1.0       1  female  38.0      1      0  71.2833        C\n",
       "2       1.0       3  female  26.0      0      0   7.9250        S\n",
       "3       1.0       1  female  35.0      1      0  53.1000        S\n",
       "4       0.0       3    male  35.0      0      0   8.0500        S"
      ]
     },
     "execution_count": 54,
     "metadata": {},
     "output_type": "execute_result"
    }
   ],
   "source": [
    "titanic.head()"
   ]
  },
  {
   "cell_type": "code",
   "execution_count": 55,
   "metadata": {},
   "outputs": [
    {
     "data": {
      "text/html": [
       "<div>\n",
       "<style scoped>\n",
       "    .dataframe tbody tr th:only-of-type {\n",
       "        vertical-align: middle;\n",
       "    }\n",
       "\n",
       "    .dataframe tbody tr th {\n",
       "        vertical-align: top;\n",
       "    }\n",
       "\n",
       "    .dataframe thead th {\n",
       "        text-align: right;\n",
       "    }\n",
       "</style>\n",
       "<table border=\"1\" class=\"dataframe\">\n",
       "  <thead>\n",
       "    <tr style=\"text-align: right;\">\n",
       "      <th></th>\n",
       "      <th>Survived</th>\n",
       "      <th>Pclass</th>\n",
       "      <th>Sex</th>\n",
       "      <th>Age</th>\n",
       "      <th>SibSp</th>\n",
       "      <th>Parch</th>\n",
       "      <th>Fare</th>\n",
       "      <th>Embarked</th>\n",
       "      <th>male</th>\n",
       "      <th>Q</th>\n",
       "      <th>S</th>\n",
       "    </tr>\n",
       "  </thead>\n",
       "  <tbody>\n",
       "    <tr>\n",
       "      <th>0</th>\n",
       "      <td>0.0</td>\n",
       "      <td>3</td>\n",
       "      <td>male</td>\n",
       "      <td>22.0</td>\n",
       "      <td>1</td>\n",
       "      <td>0</td>\n",
       "      <td>7.2500</td>\n",
       "      <td>S</td>\n",
       "      <td>1</td>\n",
       "      <td>0</td>\n",
       "      <td>1</td>\n",
       "    </tr>\n",
       "    <tr>\n",
       "      <th>1</th>\n",
       "      <td>1.0</td>\n",
       "      <td>1</td>\n",
       "      <td>female</td>\n",
       "      <td>38.0</td>\n",
       "      <td>1</td>\n",
       "      <td>0</td>\n",
       "      <td>71.2833</td>\n",
       "      <td>C</td>\n",
       "      <td>0</td>\n",
       "      <td>0</td>\n",
       "      <td>0</td>\n",
       "    </tr>\n",
       "    <tr>\n",
       "      <th>2</th>\n",
       "      <td>1.0</td>\n",
       "      <td>3</td>\n",
       "      <td>female</td>\n",
       "      <td>26.0</td>\n",
       "      <td>0</td>\n",
       "      <td>0</td>\n",
       "      <td>7.9250</td>\n",
       "      <td>S</td>\n",
       "      <td>0</td>\n",
       "      <td>0</td>\n",
       "      <td>1</td>\n",
       "    </tr>\n",
       "    <tr>\n",
       "      <th>3</th>\n",
       "      <td>1.0</td>\n",
       "      <td>1</td>\n",
       "      <td>female</td>\n",
       "      <td>35.0</td>\n",
       "      <td>1</td>\n",
       "      <td>0</td>\n",
       "      <td>53.1000</td>\n",
       "      <td>S</td>\n",
       "      <td>0</td>\n",
       "      <td>0</td>\n",
       "      <td>1</td>\n",
       "    </tr>\n",
       "    <tr>\n",
       "      <th>4</th>\n",
       "      <td>0.0</td>\n",
       "      <td>3</td>\n",
       "      <td>male</td>\n",
       "      <td>35.0</td>\n",
       "      <td>0</td>\n",
       "      <td>0</td>\n",
       "      <td>8.0500</td>\n",
       "      <td>S</td>\n",
       "      <td>1</td>\n",
       "      <td>0</td>\n",
       "      <td>1</td>\n",
       "    </tr>\n",
       "  </tbody>\n",
       "</table>\n",
       "</div>"
      ],
      "text/plain": [
       "   Survived  Pclass     Sex   Age  SibSp  Parch     Fare Embarked  male  Q  S\n",
       "0       0.0       3    male  22.0      1      0   7.2500        S     1  0  1\n",
       "1       1.0       1  female  38.0      1      0  71.2833        C     0  0  0\n",
       "2       1.0       3  female  26.0      0      0   7.9250        S     0  0  1\n",
       "3       1.0       1  female  35.0      1      0  53.1000        S     0  0  1\n",
       "4       0.0       3    male  35.0      0      0   8.0500        S     1  0  1"
      ]
     },
     "execution_count": 55,
     "metadata": {},
     "output_type": "execute_result"
    }
   ],
   "source": [
    "sex1 = pd.get_dummies(titanic[\"Sex\"],drop_first=True)\n",
    "\n",
    "titanic = pd.concat([titanic,sex1,Embarked1],axis=1)\n",
    "titanic.head()"
   ]
  },
  {
   "cell_type": "code",
   "execution_count": 56,
   "metadata": {},
   "outputs": [],
   "source": [
    "titanic.drop([\"Sex\",\"Embarked\"],axis=1,inplace=True)"
   ]
  },
  {
   "cell_type": "code",
   "execution_count": 57,
   "metadata": {},
   "outputs": [
    {
     "data": {
      "text/html": [
       "<div>\n",
       "<style scoped>\n",
       "    .dataframe tbody tr th:only-of-type {\n",
       "        vertical-align: middle;\n",
       "    }\n",
       "\n",
       "    .dataframe tbody tr th {\n",
       "        vertical-align: top;\n",
       "    }\n",
       "\n",
       "    .dataframe thead th {\n",
       "        text-align: right;\n",
       "    }\n",
       "</style>\n",
       "<table border=\"1\" class=\"dataframe\">\n",
       "  <thead>\n",
       "    <tr style=\"text-align: right;\">\n",
       "      <th></th>\n",
       "      <th>Survived</th>\n",
       "      <th>Pclass</th>\n",
       "      <th>Age</th>\n",
       "      <th>SibSp</th>\n",
       "      <th>Parch</th>\n",
       "      <th>Fare</th>\n",
       "      <th>male</th>\n",
       "      <th>Q</th>\n",
       "      <th>S</th>\n",
       "    </tr>\n",
       "  </thead>\n",
       "  <tbody>\n",
       "    <tr>\n",
       "      <th>0</th>\n",
       "      <td>0.0</td>\n",
       "      <td>3</td>\n",
       "      <td>22.0</td>\n",
       "      <td>1</td>\n",
       "      <td>0</td>\n",
       "      <td>7.2500</td>\n",
       "      <td>1</td>\n",
       "      <td>0</td>\n",
       "      <td>1</td>\n",
       "    </tr>\n",
       "    <tr>\n",
       "      <th>1</th>\n",
       "      <td>1.0</td>\n",
       "      <td>1</td>\n",
       "      <td>38.0</td>\n",
       "      <td>1</td>\n",
       "      <td>0</td>\n",
       "      <td>71.2833</td>\n",
       "      <td>0</td>\n",
       "      <td>0</td>\n",
       "      <td>0</td>\n",
       "    </tr>\n",
       "    <tr>\n",
       "      <th>2</th>\n",
       "      <td>1.0</td>\n",
       "      <td>3</td>\n",
       "      <td>26.0</td>\n",
       "      <td>0</td>\n",
       "      <td>0</td>\n",
       "      <td>7.9250</td>\n",
       "      <td>0</td>\n",
       "      <td>0</td>\n",
       "      <td>1</td>\n",
       "    </tr>\n",
       "    <tr>\n",
       "      <th>3</th>\n",
       "      <td>1.0</td>\n",
       "      <td>1</td>\n",
       "      <td>35.0</td>\n",
       "      <td>1</td>\n",
       "      <td>0</td>\n",
       "      <td>53.1000</td>\n",
       "      <td>0</td>\n",
       "      <td>0</td>\n",
       "      <td>1</td>\n",
       "    </tr>\n",
       "    <tr>\n",
       "      <th>4</th>\n",
       "      <td>0.0</td>\n",
       "      <td>3</td>\n",
       "      <td>35.0</td>\n",
       "      <td>0</td>\n",
       "      <td>0</td>\n",
       "      <td>8.0500</td>\n",
       "      <td>1</td>\n",
       "      <td>0</td>\n",
       "      <td>1</td>\n",
       "    </tr>\n",
       "  </tbody>\n",
       "</table>\n",
       "</div>"
      ],
      "text/plain": [
       "   Survived  Pclass   Age  SibSp  Parch     Fare  male  Q  S\n",
       "0       0.0       3  22.0      1      0   7.2500     1  0  1\n",
       "1       1.0       1  38.0      1      0  71.2833     0  0  0\n",
       "2       1.0       3  26.0      0      0   7.9250     0  0  1\n",
       "3       1.0       1  35.0      1      0  53.1000     0  0  1\n",
       "4       0.0       3  35.0      0      0   8.0500     1  0  1"
      ]
     },
     "execution_count": 57,
     "metadata": {},
     "output_type": "execute_result"
    }
   ],
   "source": [
    "titanic.head()"
   ]
  },
  {
   "cell_type": "markdown",
   "metadata": {},
   "source": [
    "# Model Building"
   ]
  },
  {
   "cell_type": "markdown",
   "metadata": {},
   "source": [
    "# train test spliting"
   ]
  },
  {
   "cell_type": "code",
   "execution_count": 58,
   "metadata": {},
   "outputs": [],
   "source": [
    "from sklearn.model_selection import train_test_split\n",
    "\n",
    "y_value = titanic[\"Survived\"] # depandent variable or to be predicted variable    # 80:20 or 70:30\n",
    "x_value = titanic.drop([\"Survived\"],axis=1)  # indepandent variable\n",
    "\n",
    "\n",
    "x_train,x_test,y_train,y_test = train_test_split(x_value,y_value, test_size=0.2, random_state = 42)\n"
   ]
  },
  {
   "cell_type": "markdown",
   "metadata": {},
   "source": [
    "# Logistic regression"
   ]
  },
  {
   "cell_type": "code",
   "execution_count": 59,
   "metadata": {},
   "outputs": [
    {
     "name": "stdout",
     "output_type": "stream",
     "text": [
      "Accuracy =  79.88826815642457\n",
      "[[89 20]\n",
      " [16 54]]\n"
     ]
    }
   ],
   "source": [
    "from sklearn.linear_model import LogisticRegression\n",
    "from sklearn.metrics import accuracy_score, confusion_matrix\n",
    "\n",
    "log_model = LogisticRegression()\n",
    "log_model.fit(x_train,y_train)\n",
    "y_predicted = log_model.predict(x_test)\n",
    "print(\"Accuracy = \",accuracy_score(y_predicted,y_test)*100)\n",
    "print(confusion_matrix(y_predicted,y_test))"
   ]
  },
  {
   "cell_type": "code",
   "execution_count": 60,
   "metadata": {},
   "outputs": [
    {
     "data": {
      "text/plain": [
       "79.88826815642457"
      ]
     },
     "execution_count": 60,
     "metadata": {},
     "output_type": "execute_result"
    }
   ],
   "source": [
    "((89+54)/(89+20+16+54))*100"
   ]
  },
  {
   "cell_type": "markdown",
   "metadata": {},
   "source": [
    "# Decision Tree"
   ]
  },
  {
   "cell_type": "code",
   "execution_count": 61,
   "metadata": {},
   "outputs": [
    {
     "name": "stdout",
     "output_type": "stream",
     "text": [
      "Accuracy =  79.88826815642457\n",
      "[[87 18]\n",
      " [18 56]]\n"
     ]
    }
   ],
   "source": [
    "from sklearn.tree import DecisionTreeClassifier\n",
    "\n",
    "dt_model = DecisionTreeClassifier(random_state=42)\n",
    "dt_model.fit(x_train,y_train)\n",
    "dt_y_predicted = dt_model.predict(x_test)\n",
    "print(\"Accuracy = \",accuracy_score(dt_y_predicted,y_test)*100)\n",
    "print(confusion_matrix(dt_y_predicted,y_test))"
   ]
  },
  {
   "cell_type": "markdown",
   "metadata": {},
   "source": [
    "# Decision tree Hyperparameter tuning"
   ]
  },
  {
   "cell_type": "code",
   "execution_count": 95,
   "metadata": {},
   "outputs": [
    {
     "name": "stdout",
     "output_type": "stream",
     "text": [
      "{'criterion': ['gini', 'entropy'], 'splitter': ['best', 'random'], 'max_depth': [1, 3, 5, None], 'min_samples_split': [2, 5, 10, 15, 100, 1000], 'min_samples_leaf': [1, 2, 5, 10, 15]}\n"
     ]
    }
   ],
   "source": [
    "# Randomized searched cv\n",
    "\n",
    "from sklearn.model_selection import RandomizedSearchCV\n",
    "\n",
    "criterion=['gini', 'entropy']\n",
    "splitter=['best','random']\n",
    "max_depth=[1,3,5,None]\n",
    "min_samples_split=[2,5,10,15,100,1000]\n",
    "min_samples_leaf=[1,2,5,10,15]\n",
    "\n",
    "\n",
    "dt_random_grid = {\n",
    "    'criterion':criterion,\n",
    "    'splitter':splitter,\n",
    "    'max_depth':max_depth,\n",
    "    'min_samples_split':min_samples_split,\n",
    "    'min_samples_leaf':min_samples_leaf,\n",
    "    \n",
    "}\n",
    "\n",
    "print(dt_random_grid)"
   ]
  },
  {
   "cell_type": "code",
   "execution_count": 96,
   "metadata": {},
   "outputs": [],
   "source": [
    "tree = DecisionTreeClassifier()\n",
    "\n",
    "tree_cv = RandomizedSearchCV(estimator=tree, param_distributions=dt_random_grid, n_iter=20, cv=5, verbose=2, random_state=42, n_jobs=1)"
   ]
  },
  {
   "cell_type": "code",
   "execution_count": 97,
   "metadata": {
    "collapsed": true
   },
   "outputs": [
    {
     "name": "stdout",
     "output_type": "stream",
     "text": [
      "Fitting 5 folds for each of 20 candidates, totalling 100 fits\n",
      "[CV] splitter=random, min_samples_split=2, min_samples_leaf=2, max_depth=3, criterion=gini \n",
      "[CV]  splitter=random, min_samples_split=2, min_samples_leaf=2, max_depth=3, criterion=gini, total=   0.0s\n",
      "[CV] splitter=random, min_samples_split=2, min_samples_leaf=2, max_depth=3, criterion=gini \n",
      "[CV]  splitter=random, min_samples_split=2, min_samples_leaf=2, max_depth=3, criterion=gini, total=   0.0s\n",
      "[CV] splitter=random, min_samples_split=2, min_samples_leaf=2, max_depth=3, criterion=gini \n",
      "[CV]  splitter=random, min_samples_split=2, min_samples_leaf=2, max_depth=3, criterion=gini, total=   0.0s\n",
      "[CV] splitter=random, min_samples_split=2, min_samples_leaf=2, max_depth=3, criterion=gini \n",
      "[CV]  splitter=random, min_samples_split=2, min_samples_leaf=2, max_depth=3, criterion=gini, total=   0.0s\n",
      "[CV] splitter=random, min_samples_split=2, min_samples_leaf=2, max_depth=3, criterion=gini \n",
      "[CV]  splitter=random, min_samples_split=2, min_samples_leaf=2, max_depth=3, criterion=gini, total=   0.0s\n",
      "[CV] splitter=best, min_samples_split=15, min_samples_leaf=15, max_depth=5, criterion=entropy \n",
      "[CV]  splitter=best, min_samples_split=15, min_samples_leaf=15, max_depth=5, criterion=entropy, total=   0.0s\n",
      "[CV] splitter=best, min_samples_split=15, min_samples_leaf=15, max_depth=5, criterion=entropy \n",
      "[CV]  splitter=best, min_samples_split=15, min_samples_leaf=15, max_depth=5, criterion=entropy, total=   0.0s\n",
      "[CV] splitter=best, min_samples_split=15, min_samples_leaf=15, max_depth=5, criterion=entropy \n",
      "[CV]  splitter=best, min_samples_split=15, min_samples_leaf=15, max_depth=5, criterion=entropy, total=   0.0s\n",
      "[CV] splitter=best, min_samples_split=15, min_samples_leaf=15, max_depth=5, criterion=entropy \n",
      "[CV]  splitter=best, min_samples_split=15, min_samples_leaf=15, max_depth=5, criterion=entropy, total=   0.0s\n",
      "[CV] splitter=best, min_samples_split=15, min_samples_leaf=15, max_depth=5, criterion=entropy \n",
      "[CV]  splitter=best, min_samples_split=15, min_samples_leaf=15, max_depth=5, criterion=entropy, total=   0.0s"
     ]
    },
    {
     "name": "stderr",
     "output_type": "stream",
     "text": [
      "[Parallel(n_jobs=1)]: Using backend SequentialBackend with 1 concurrent workers.\n",
      "[Parallel(n_jobs=1)]: Done   1 out of   1 | elapsed:    0.0s remaining:    0.0s\n"
     ]
    },
    {
     "name": "stdout",
     "output_type": "stream",
     "text": [
      "\n",
      "[CV] splitter=best, min_samples_split=1000, min_samples_leaf=5, max_depth=5, criterion=entropy \n",
      "[CV]  splitter=best, min_samples_split=1000, min_samples_leaf=5, max_depth=5, criterion=entropy, total=   0.0s\n",
      "[CV] splitter=best, min_samples_split=1000, min_samples_leaf=5, max_depth=5, criterion=entropy \n",
      "[CV]  splitter=best, min_samples_split=1000, min_samples_leaf=5, max_depth=5, criterion=entropy, total=   0.0s\n",
      "[CV] splitter=best, min_samples_split=1000, min_samples_leaf=5, max_depth=5, criterion=entropy \n",
      "[CV]  splitter=best, min_samples_split=1000, min_samples_leaf=5, max_depth=5, criterion=entropy, total=   0.0s\n",
      "[CV] splitter=best, min_samples_split=1000, min_samples_leaf=5, max_depth=5, criterion=entropy \n",
      "[CV]  splitter=best, min_samples_split=1000, min_samples_leaf=5, max_depth=5, criterion=entropy, total=   0.0s\n",
      "[CV] splitter=best, min_samples_split=1000, min_samples_leaf=5, max_depth=5, criterion=entropy \n",
      "[CV]  splitter=best, min_samples_split=1000, min_samples_leaf=5, max_depth=5, criterion=entropy, total=   0.0s\n",
      "[CV] splitter=random, min_samples_split=2, min_samples_leaf=10, max_depth=1, criterion=entropy \n",
      "[CV]  splitter=random, min_samples_split=2, min_samples_leaf=10, max_depth=1, criterion=entropy, total=   0.0s\n",
      "[CV] splitter=random, min_samples_split=2, min_samples_leaf=10, max_depth=1, criterion=entropy \n",
      "[CV]  splitter=random, min_samples_split=2, min_samples_leaf=10, max_depth=1, criterion=entropy, total=   0.0s\n",
      "[CV] splitter=random, min_samples_split=2, min_samples_leaf=10, max_depth=1, criterion=entropy \n",
      "[CV]  splitter=random, min_samples_split=2, min_samples_leaf=10, max_depth=1, criterion=entropy, total=   0.0s\n",
      "[CV] splitter=random, min_samples_split=2, min_samples_leaf=10, max_depth=1, criterion=entropy \n",
      "[CV]  splitter=random, min_samples_split=2, min_samples_leaf=10, max_depth=1, criterion=entropy, total=   0.0s\n",
      "[CV] splitter=random, min_samples_split=2, min_samples_leaf=10, max_depth=1, criterion=entropy \n",
      "[CV]  splitter=random, min_samples_split=2, min_samples_leaf=10, max_depth=1, criterion=entropy, total=   0.0s\n",
      "[CV] splitter=random, min_samples_split=5, min_samples_leaf=10, max_depth=5, criterion=entropy \n",
      "[CV]  splitter=random, min_samples_split=5, min_samples_leaf=10, max_depth=5, criterion=entropy, total=   0.0s\n",
      "[CV] splitter=random, min_samples_split=5, min_samples_leaf=10, max_depth=5, criterion=entropy \n",
      "[CV]  splitter=random, min_samples_split=5, min_samples_leaf=10, max_depth=5, criterion=entropy, total=   0.0s\n",
      "[CV] splitter=random, min_samples_split=5, min_samples_leaf=10, max_depth=5, criterion=entropy \n",
      "[CV]  splitter=random, min_samples_split=5, min_samples_leaf=10, max_depth=5, criterion=entropy, total=   0.0s\n",
      "[CV] splitter=random, min_samples_split=5, min_samples_leaf=10, max_depth=5, criterion=entropy \n",
      "[CV]  splitter=random, min_samples_split=5, min_samples_leaf=10, max_depth=5, criterion=entropy, total=   0.0s\n",
      "[CV] splitter=random, min_samples_split=5, min_samples_leaf=10, max_depth=5, criterion=entropy \n",
      "[CV]  splitter=random, min_samples_split=5, min_samples_leaf=10, max_depth=5, criterion=entropy, total=   0.0s\n",
      "[CV] splitter=best, min_samples_split=10, min_samples_leaf=15, max_depth=5, criterion=gini \n",
      "[CV]  splitter=best, min_samples_split=10, min_samples_leaf=15, max_depth=5, criterion=gini, total=   0.0s\n",
      "[CV] splitter=best, min_samples_split=10, min_samples_leaf=15, max_depth=5, criterion=gini \n",
      "[CV]  splitter=best, min_samples_split=10, min_samples_leaf=15, max_depth=5, criterion=gini, total=   0.0s\n",
      "[CV] splitter=best, min_samples_split=10, min_samples_leaf=15, max_depth=5, criterion=gini \n",
      "[CV]  splitter=best, min_samples_split=10, min_samples_leaf=15, max_depth=5, criterion=gini, total=   0.0s\n",
      "[CV] splitter=best, min_samples_split=10, min_samples_leaf=15, max_depth=5, criterion=gini \n",
      "[CV]  splitter=best, min_samples_split=10, min_samples_leaf=15, max_depth=5, criterion=gini, total=   0.0s\n",
      "[CV] splitter=best, min_samples_split=10, min_samples_leaf=15, max_depth=5, criterion=gini \n",
      "[CV]  splitter=best, min_samples_split=10, min_samples_leaf=15, max_depth=5, criterion=gini, total=   0.0s\n",
      "[CV] splitter=best, min_samples_split=10, min_samples_leaf=5, max_depth=1, criterion=entropy \n",
      "[CV]  splitter=best, min_samples_split=10, min_samples_leaf=5, max_depth=1, criterion=entropy, total=   0.0s\n",
      "[CV] splitter=best, min_samples_split=10, min_samples_leaf=5, max_depth=1, criterion=entropy \n",
      "[CV]  splitter=best, min_samples_split=10, min_samples_leaf=5, max_depth=1, criterion=entropy, total=   0.0s\n",
      "[CV] splitter=best, min_samples_split=10, min_samples_leaf=5, max_depth=1, criterion=entropy \n",
      "[CV]  splitter=best, min_samples_split=10, min_samples_leaf=5, max_depth=1, criterion=entropy, total=   0.0s\n",
      "[CV] splitter=best, min_samples_split=10, min_samples_leaf=5, max_depth=1, criterion=entropy \n",
      "[CV]  splitter=best, min_samples_split=10, min_samples_leaf=5, max_depth=1, criterion=entropy, total=   0.0s\n",
      "[CV] splitter=best, min_samples_split=10, min_samples_leaf=5, max_depth=1, criterion=entropy \n",
      "[CV]  splitter=best, min_samples_split=10, min_samples_leaf=5, max_depth=1, criterion=entropy, total=   0.0s\n",
      "[CV] splitter=random, min_samples_split=5, min_samples_leaf=2, max_depth=5, criterion=entropy \n",
      "[CV]  splitter=random, min_samples_split=5, min_samples_leaf=2, max_depth=5, criterion=entropy, total=   0.0s\n",
      "[CV] splitter=random, min_samples_split=5, min_samples_leaf=2, max_depth=5, criterion=entropy \n",
      "[CV]  splitter=random, min_samples_split=5, min_samples_leaf=2, max_depth=5, criterion=entropy, total=   0.0s\n",
      "[CV] splitter=random, min_samples_split=5, min_samples_leaf=2, max_depth=5, criterion=entropy \n",
      "[CV]  splitter=random, min_samples_split=5, min_samples_leaf=2, max_depth=5, criterion=entropy, total=   0.0s\n",
      "[CV] splitter=random, min_samples_split=5, min_samples_leaf=2, max_depth=5, criterion=entropy \n",
      "[CV]  splitter=random, min_samples_split=5, min_samples_leaf=2, max_depth=5, criterion=entropy, total=   0.0s\n",
      "[CV] splitter=random, min_samples_split=5, min_samples_leaf=2, max_depth=5, criterion=entropy \n",
      "[CV]  splitter=random, min_samples_split=5, min_samples_leaf=2, max_depth=5, criterion=entropy, total=   0.0s\n",
      "[CV] splitter=random, min_samples_split=10, min_samples_leaf=2, max_depth=3, criterion=gini \n",
      "[CV]  splitter=random, min_samples_split=10, min_samples_leaf=2, max_depth=3, criterion=gini, total=   0.0s\n",
      "[CV] splitter=random, min_samples_split=10, min_samples_leaf=2, max_depth=3, criterion=gini \n",
      "[CV]  splitter=random, min_samples_split=10, min_samples_leaf=2, max_depth=3, criterion=gini, total=   0.0s\n",
      "[CV] splitter=random, min_samples_split=10, min_samples_leaf=2, max_depth=3, criterion=gini \n",
      "[CV]  splitter=random, min_samples_split=10, min_samples_leaf=2, max_depth=3, criterion=gini, total=   0.0s\n",
      "[CV] splitter=random, min_samples_split=10, min_samples_leaf=2, max_depth=3, criterion=gini \n",
      "[CV]  splitter=random, min_samples_split=10, min_samples_leaf=2, max_depth=3, criterion=gini, total=   0.0s\n",
      "[CV] splitter=random, min_samples_split=10, min_samples_leaf=2, max_depth=3, criterion=gini \n",
      "[CV]  splitter=random, min_samples_split=10, min_samples_leaf=2, max_depth=3, criterion=gini, total=   0.0s\n",
      "[CV] splitter=best, min_samples_split=1000, min_samples_leaf=2, max_depth=None, criterion=entropy \n",
      "[CV]  splitter=best, min_samples_split=1000, min_samples_leaf=2, max_depth=None, criterion=entropy, total=   0.0s\n",
      "[CV] splitter=best, min_samples_split=1000, min_samples_leaf=2, max_depth=None, criterion=entropy \n",
      "[CV]  splitter=best, min_samples_split=1000, min_samples_leaf=2, max_depth=None, criterion=entropy, total=   0.0s\n",
      "[CV] splitter=best, min_samples_split=1000, min_samples_leaf=2, max_depth=None, criterion=entropy \n",
      "[CV]  splitter=best, min_samples_split=1000, min_samples_leaf=2, max_depth=None, criterion=entropy, total=   0.0s\n",
      "[CV] splitter=best, min_samples_split=1000, min_samples_leaf=2, max_depth=None, criterion=entropy \n",
      "[CV]  splitter=best, min_samples_split=1000, min_samples_leaf=2, max_depth=None, criterion=entropy, total=   0.0s\n",
      "[CV] splitter=best, min_samples_split=1000, min_samples_leaf=2, max_depth=None, criterion=entropy \n",
      "[CV]  splitter=best, min_samples_split=1000, min_samples_leaf=2, max_depth=None, criterion=entropy, total=   0.0s\n",
      "[CV] splitter=random, min_samples_split=100, min_samples_leaf=1, max_depth=1, criterion=gini \n",
      "[CV]  splitter=random, min_samples_split=100, min_samples_leaf=1, max_depth=1, criterion=gini, total=   0.0s\n",
      "[CV] splitter=random, min_samples_split=100, min_samples_leaf=1, max_depth=1, criterion=gini \n",
      "[CV]  splitter=random, min_samples_split=100, min_samples_leaf=1, max_depth=1, criterion=gini, total=   0.0s\n",
      "[CV] splitter=random, min_samples_split=100, min_samples_leaf=1, max_depth=1, criterion=gini \n",
      "[CV]  splitter=random, min_samples_split=100, min_samples_leaf=1, max_depth=1, criterion=gini, total=   0.0s\n",
      "[CV] splitter=random, min_samples_split=100, min_samples_leaf=1, max_depth=1, criterion=gini \n",
      "[CV]  splitter=random, min_samples_split=100, min_samples_leaf=1, max_depth=1, criterion=gini, total=   0.0s\n",
      "[CV] splitter=random, min_samples_split=100, min_samples_leaf=1, max_depth=1, criterion=gini \n",
      "[CV]  splitter=random, min_samples_split=100, min_samples_leaf=1, max_depth=1, criterion=gini, total=   0.0s\n",
      "[CV] splitter=random, min_samples_split=10, min_samples_leaf=10, max_depth=1, criterion=entropy \n",
      "[CV]  splitter=random, min_samples_split=10, min_samples_leaf=10, max_depth=1, criterion=entropy, total=   0.0s\n",
      "[CV] splitter=random, min_samples_split=10, min_samples_leaf=10, max_depth=1, criterion=entropy \n",
      "[CV]  splitter=random, min_samples_split=10, min_samples_leaf=10, max_depth=1, criterion=entropy, total=   0.0s\n",
      "[CV] splitter=random, min_samples_split=10, min_samples_leaf=10, max_depth=1, criterion=entropy \n",
      "[CV]  splitter=random, min_samples_split=10, min_samples_leaf=10, max_depth=1, criterion=entropy, total=   0.0s\n",
      "[CV] splitter=random, min_samples_split=10, min_samples_leaf=10, max_depth=1, criterion=entropy \n",
      "[CV]  splitter=random, min_samples_split=10, min_samples_leaf=10, max_depth=1, criterion=entropy, total=   0.0s\n",
      "[CV] splitter=random, min_samples_split=10, min_samples_leaf=10, max_depth=1, criterion=entropy \n",
      "[CV]  splitter=random, min_samples_split=10, min_samples_leaf=10, max_depth=1, criterion=entropy, total=   0.0s\n",
      "[CV] splitter=random, min_samples_split=2, min_samples_leaf=2, max_depth=None, criterion=entropy \n",
      "[CV]  splitter=random, min_samples_split=2, min_samples_leaf=2, max_depth=None, criterion=entropy, total=   0.0s\n",
      "[CV] splitter=random, min_samples_split=2, min_samples_leaf=2, max_depth=None, criterion=entropy \n",
      "[CV]  splitter=random, min_samples_split=2, min_samples_leaf=2, max_depth=None, criterion=entropy, total=   0.0s\n",
      "[CV] splitter=random, min_samples_split=2, min_samples_leaf=2, max_depth=None, criterion=entropy \n",
      "[CV]  splitter=random, min_samples_split=2, min_samples_leaf=2, max_depth=None, criterion=entropy, total=   0.0s\n",
      "[CV] splitter=random, min_samples_split=2, min_samples_leaf=2, max_depth=None, criterion=entropy \n",
      "[CV]  splitter=random, min_samples_split=2, min_samples_leaf=2, max_depth=None, criterion=entropy, total=   0.0s\n",
      "[CV] splitter=random, min_samples_split=2, min_samples_leaf=2, max_depth=None, criterion=entropy \n",
      "[CV]  splitter=random, min_samples_split=2, min_samples_leaf=2, max_depth=None, criterion=entropy, total=   0.0s\n",
      "[CV] splitter=best, min_samples_split=1000, min_samples_leaf=15, max_depth=1, criterion=entropy \n",
      "[CV]  splitter=best, min_samples_split=1000, min_samples_leaf=15, max_depth=1, criterion=entropy, total=   0.0s\n",
      "[CV] splitter=best, min_samples_split=1000, min_samples_leaf=15, max_depth=1, criterion=entropy \n"
     ]
    },
    {
     "name": "stdout",
     "output_type": "stream",
     "text": [
      "[CV]  splitter=best, min_samples_split=1000, min_samples_leaf=15, max_depth=1, criterion=entropy, total=   0.0s\n",
      "[CV] splitter=best, min_samples_split=1000, min_samples_leaf=15, max_depth=1, criterion=entropy \n",
      "[CV]  splitter=best, min_samples_split=1000, min_samples_leaf=15, max_depth=1, criterion=entropy, total=   0.0s\n",
      "[CV] splitter=best, min_samples_split=1000, min_samples_leaf=15, max_depth=1, criterion=entropy \n",
      "[CV]  splitter=best, min_samples_split=1000, min_samples_leaf=15, max_depth=1, criterion=entropy, total=   0.0s\n",
      "[CV] splitter=best, min_samples_split=1000, min_samples_leaf=15, max_depth=1, criterion=entropy \n",
      "[CV]  splitter=best, min_samples_split=1000, min_samples_leaf=15, max_depth=1, criterion=entropy, total=   0.0s\n",
      "[CV] splitter=best, min_samples_split=15, min_samples_leaf=5, max_depth=1, criterion=gini \n",
      "[CV]  splitter=best, min_samples_split=15, min_samples_leaf=5, max_depth=1, criterion=gini, total=   0.0s\n",
      "[CV] splitter=best, min_samples_split=15, min_samples_leaf=5, max_depth=1, criterion=gini \n",
      "[CV]  splitter=best, min_samples_split=15, min_samples_leaf=5, max_depth=1, criterion=gini, total=   0.0s\n",
      "[CV] splitter=best, min_samples_split=15, min_samples_leaf=5, max_depth=1, criterion=gini \n",
      "[CV]  splitter=best, min_samples_split=15, min_samples_leaf=5, max_depth=1, criterion=gini, total=   0.0s\n",
      "[CV] splitter=best, min_samples_split=15, min_samples_leaf=5, max_depth=1, criterion=gini \n",
      "[CV]  splitter=best, min_samples_split=15, min_samples_leaf=5, max_depth=1, criterion=gini, total=   0.0s\n",
      "[CV] splitter=best, min_samples_split=15, min_samples_leaf=5, max_depth=1, criterion=gini \n",
      "[CV]  splitter=best, min_samples_split=15, min_samples_leaf=5, max_depth=1, criterion=gini, total=   0.0s\n",
      "[CV] splitter=random, min_samples_split=100, min_samples_leaf=5, max_depth=3, criterion=gini \n",
      "[CV]  splitter=random, min_samples_split=100, min_samples_leaf=5, max_depth=3, criterion=gini, total=   0.0s\n",
      "[CV] splitter=random, min_samples_split=100, min_samples_leaf=5, max_depth=3, criterion=gini \n",
      "[CV]  splitter=random, min_samples_split=100, min_samples_leaf=5, max_depth=3, criterion=gini, total=   0.0s\n",
      "[CV] splitter=random, min_samples_split=100, min_samples_leaf=5, max_depth=3, criterion=gini \n",
      "[CV]  splitter=random, min_samples_split=100, min_samples_leaf=5, max_depth=3, criterion=gini, total=   0.0s\n",
      "[CV] splitter=random, min_samples_split=100, min_samples_leaf=5, max_depth=3, criterion=gini \n",
      "[CV]  splitter=random, min_samples_split=100, min_samples_leaf=5, max_depth=3, criterion=gini, total=   0.0s\n",
      "[CV] splitter=random, min_samples_split=100, min_samples_leaf=5, max_depth=3, criterion=gini \n",
      "[CV]  splitter=random, min_samples_split=100, min_samples_leaf=5, max_depth=3, criterion=gini, total=   0.0s\n",
      "[CV] splitter=random, min_samples_split=15, min_samples_leaf=15, max_depth=1, criterion=gini \n",
      "[CV]  splitter=random, min_samples_split=15, min_samples_leaf=15, max_depth=1, criterion=gini, total=   0.0s\n",
      "[CV] splitter=random, min_samples_split=15, min_samples_leaf=15, max_depth=1, criterion=gini \n",
      "[CV]  splitter=random, min_samples_split=15, min_samples_leaf=15, max_depth=1, criterion=gini, total=   0.0s\n",
      "[CV] splitter=random, min_samples_split=15, min_samples_leaf=15, max_depth=1, criterion=gini \n",
      "[CV]  splitter=random, min_samples_split=15, min_samples_leaf=15, max_depth=1, criterion=gini, total=   0.0s\n",
      "[CV] splitter=random, min_samples_split=15, min_samples_leaf=15, max_depth=1, criterion=gini \n",
      "[CV]  splitter=random, min_samples_split=15, min_samples_leaf=15, max_depth=1, criterion=gini, total=   0.0s\n",
      "[CV] splitter=random, min_samples_split=15, min_samples_leaf=15, max_depth=1, criterion=gini \n",
      "[CV]  splitter=random, min_samples_split=15, min_samples_leaf=15, max_depth=1, criterion=gini, total=   0.0s\n",
      "[CV] splitter=random, min_samples_split=5, min_samples_leaf=1, max_depth=None, criterion=entropy \n",
      "[CV]  splitter=random, min_samples_split=5, min_samples_leaf=1, max_depth=None, criterion=entropy, total=   0.0s\n",
      "[CV] splitter=random, min_samples_split=5, min_samples_leaf=1, max_depth=None, criterion=entropy \n",
      "[CV]  splitter=random, min_samples_split=5, min_samples_leaf=1, max_depth=None, criterion=entropy, total=   0.0s\n",
      "[CV] splitter=random, min_samples_split=5, min_samples_leaf=1, max_depth=None, criterion=entropy \n",
      "[CV]  splitter=random, min_samples_split=5, min_samples_leaf=1, max_depth=None, criterion=entropy, total=   0.0s\n",
      "[CV] splitter=random, min_samples_split=5, min_samples_leaf=1, max_depth=None, criterion=entropy \n",
      "[CV]  splitter=random, min_samples_split=5, min_samples_leaf=1, max_depth=None, criterion=entropy, total=   0.0s\n",
      "[CV] splitter=random, min_samples_split=5, min_samples_leaf=1, max_depth=None, criterion=entropy \n",
      "[CV]  splitter=random, min_samples_split=5, min_samples_leaf=1, max_depth=None, criterion=entropy, total=   0.0s\n",
      "[CV] splitter=random, min_samples_split=100, min_samples_leaf=5, max_depth=1, criterion=gini \n",
      "[CV]  splitter=random, min_samples_split=100, min_samples_leaf=5, max_depth=1, criterion=gini, total=   0.0s\n",
      "[CV] splitter=random, min_samples_split=100, min_samples_leaf=5, max_depth=1, criterion=gini \n",
      "[CV]  splitter=random, min_samples_split=100, min_samples_leaf=5, max_depth=1, criterion=gini, total=   0.0s\n",
      "[CV] splitter=random, min_samples_split=100, min_samples_leaf=5, max_depth=1, criterion=gini \n",
      "[CV]  splitter=random, min_samples_split=100, min_samples_leaf=5, max_depth=1, criterion=gini, total=   0.0s\n",
      "[CV] splitter=random, min_samples_split=100, min_samples_leaf=5, max_depth=1, criterion=gini \n",
      "[CV]  splitter=random, min_samples_split=100, min_samples_leaf=5, max_depth=1, criterion=gini, total=   0.0s\n",
      "[CV] splitter=random, min_samples_split=100, min_samples_leaf=5, max_depth=1, criterion=gini \n",
      "[CV]  splitter=random, min_samples_split=100, min_samples_leaf=5, max_depth=1, criterion=gini, total=   0.0s\n",
      "[CV] splitter=random, min_samples_split=1000, min_samples_leaf=2, max_depth=None, criterion=gini \n",
      "[CV]  splitter=random, min_samples_split=1000, min_samples_leaf=2, max_depth=None, criterion=gini, total=   0.0s\n",
      "[CV] splitter=random, min_samples_split=1000, min_samples_leaf=2, max_depth=None, criterion=gini \n",
      "[CV]  splitter=random, min_samples_split=1000, min_samples_leaf=2, max_depth=None, criterion=gini, total=   0.0s\n",
      "[CV] splitter=random, min_samples_split=1000, min_samples_leaf=2, max_depth=None, criterion=gini \n",
      "[CV]  splitter=random, min_samples_split=1000, min_samples_leaf=2, max_depth=None, criterion=gini, total=   0.0s\n",
      "[CV] splitter=random, min_samples_split=1000, min_samples_leaf=2, max_depth=None, criterion=gini \n",
      "[CV]  splitter=random, min_samples_split=1000, min_samples_leaf=2, max_depth=None, criterion=gini, total=   0.0s\n",
      "[CV] splitter=random, min_samples_split=1000, min_samples_leaf=2, max_depth=None, criterion=gini \n",
      "[CV]  splitter=random, min_samples_split=1000, min_samples_leaf=2, max_depth=None, criterion=gini, total=   0.0s\n"
     ]
    },
    {
     "name": "stderr",
     "output_type": "stream",
     "text": [
      "[Parallel(n_jobs=1)]: Done 100 out of 100 | elapsed:    1.4s finished\n"
     ]
    },
    {
     "data": {
      "text/plain": [
       "RandomizedSearchCV(cv=5, estimator=DecisionTreeClassifier(), n_iter=20,\n",
       "                   n_jobs=1,\n",
       "                   param_distributions={'criterion': ['gini', 'entropy'],\n",
       "                                        'max_depth': [1, 3, 5, None],\n",
       "                                        'min_samples_leaf': [1, 2, 5, 10, 15],\n",
       "                                        'min_samples_split': [2, 5, 10, 15, 100,\n",
       "                                                              1000],\n",
       "                                        'splitter': ['best', 'random']},\n",
       "                   random_state=42, verbose=2)"
      ]
     },
     "execution_count": 97,
     "metadata": {},
     "output_type": "execute_result"
    }
   ],
   "source": [
    "tree_cv.fit(x_train,y_train)"
   ]
  },
  {
   "cell_type": "code",
   "execution_count": 98,
   "metadata": {},
   "outputs": [
    {
     "data": {
      "text/plain": [
       "{'splitter': 'best',\n",
       " 'min_samples_split': 10,\n",
       " 'min_samples_leaf': 15,\n",
       " 'max_depth': 5,\n",
       " 'criterion': 'gini'}"
      ]
     },
     "execution_count": 98,
     "metadata": {},
     "output_type": "execute_result"
    }
   ],
   "source": [
    "tree_cv.best_params_"
   ]
  },
  {
   "cell_type": "code",
   "execution_count": 99,
   "metadata": {},
   "outputs": [
    {
     "name": "stdout",
     "output_type": "stream",
     "text": [
      "Accuracy  81.00558659217877\n"
     ]
    }
   ],
   "source": [
    "prediction = tree_cv.predict(x_test)\n",
    "print(\"Accuracy \",accuracy_score(y_test,prediction)*100)"
   ]
  },
  {
   "cell_type": "markdown",
   "metadata": {},
   "source": [
    "# Random Forest Classifier"
   ]
  },
  {
   "cell_type": "code",
   "execution_count": 67,
   "metadata": {},
   "outputs": [
    {
     "name": "stdout",
     "output_type": "stream",
     "text": [
      "Accuracy =  82.12290502793296\n",
      "[[91 18]\n",
      " [14 56]]\n"
     ]
    }
   ],
   "source": [
    "from sklearn.ensemble import RandomForestClassifier\n",
    "\n",
    "rf_model = RandomForestClassifier(n_estimators=100,random_state=42)\n",
    "rf_model.fit(x_train,y_train)\n",
    "rf_y_predicted = rf_model.predict(x_test)\n",
    "print(\"Accuracy = \",accuracy_score(rf_y_predicted,y_test)*100)\n",
    "print(confusion_matrix(rf_y_predicted,y_test))"
   ]
  },
  {
   "cell_type": "markdown",
   "metadata": {},
   "source": [
    "# Random Forest Hyperparameter tuning\n"
   ]
  },
  {
   "cell_type": "code",
   "execution_count": 118,
   "metadata": {},
   "outputs": [
    {
     "name": "stdout",
     "output_type": "stream",
     "text": [
      "{'n_estimators': [100, 200, 300, 400, 500, 600, 700, 800, 900, 1000, 1100, 1200, 1300, 1400, 1500, 1600, 1700, 1800, 1900, 2000], 'criterion': ['gini', 'entropy'], 'max_depth': [2, 5, 8, 11, 14, 17, 20, 23, 26, 30], 'min_samples_split': [2, 5, 10, 15, 100, 1000], 'min_samples_leaf': [1, 2, 5, 10, 15], 'max_features': ['auto', 'sqrt', 'log2']}\n"
     ]
    }
   ],
   "source": [
    "n_estimators=[int(x) for x in np.linspace(start=100,stop=2000,num=20)]\n",
    "criterion=['gini','entropy']\n",
    "max_depth=[int(x) for x in np.linspace(start=2,stop=30,num=10)]\n",
    "min_samples_split=[2,5,10,15,100,1000]\n",
    "min_samples_leaf=[1,2,5,10,15]\n",
    "max_features=['auto','sqrt','log2']\n",
    "\n",
    "\n",
    "rf_random_grid = {\n",
    "    'n_estimators':n_estimators,\n",
    "    'criterion':criterion,\n",
    "    'max_depth':max_depth,\n",
    "    'min_samples_split':min_samples_split,\n",
    "    'min_samples_leaf':min_samples_leaf,\n",
    "    'max_features':max_features\n",
    "}\n",
    "\n",
    "print(rf_random_grid)"
   ]
  },
  {
   "cell_type": "code",
   "execution_count": 119,
   "metadata": {},
   "outputs": [],
   "source": [
    "rf_trees = RandomForestClassifier()\n",
    "\n",
    "rf_tree_cv = RandomizedSearchCV(estimator=rf_trees, param_distributions=rf_random_grid, n_iter=20, cv=5, verbose=2, random_state=42, n_jobs=1)"
   ]
  },
  {
   "cell_type": "code",
   "execution_count": 120,
   "metadata": {},
   "outputs": [
    {
     "name": "stdout",
     "output_type": "stream",
     "text": [
      "Fitting 5 folds for each of 20 candidates, totalling 100 fits\n",
      "[CV] n_estimators=1600, min_samples_split=15, min_samples_leaf=2, max_features=log2, max_depth=26, criterion=gini \n"
     ]
    },
    {
     "name": "stderr",
     "output_type": "stream",
     "text": [
      "[Parallel(n_jobs=1)]: Using backend SequentialBackend with 1 concurrent workers.\n"
     ]
    },
    {
     "name": "stdout",
     "output_type": "stream",
     "text": [
      "[CV]  n_estimators=1600, min_samples_split=15, min_samples_leaf=2, max_features=log2, max_depth=26, criterion=gini, total=   7.3s\n",
      "[CV] n_estimators=1600, min_samples_split=15, min_samples_leaf=2, max_features=log2, max_depth=26, criterion=gini \n"
     ]
    },
    {
     "name": "stderr",
     "output_type": "stream",
     "text": [
      "[Parallel(n_jobs=1)]: Done   1 out of   1 | elapsed:    7.2s remaining:    0.0s\n"
     ]
    },
    {
     "name": "stdout",
     "output_type": "stream",
     "text": [
      "[CV]  n_estimators=1600, min_samples_split=15, min_samples_leaf=2, max_features=log2, max_depth=26, criterion=gini, total=   7.2s\n",
      "[CV] n_estimators=1600, min_samples_split=15, min_samples_leaf=2, max_features=log2, max_depth=26, criterion=gini \n",
      "[CV]  n_estimators=1600, min_samples_split=15, min_samples_leaf=2, max_features=log2, max_depth=26, criterion=gini, total=   7.0s\n",
      "[CV] n_estimators=1600, min_samples_split=15, min_samples_leaf=2, max_features=log2, max_depth=26, criterion=gini \n",
      "[CV]  n_estimators=1600, min_samples_split=15, min_samples_leaf=2, max_features=log2, max_depth=26, criterion=gini, total=   7.4s\n",
      "[CV] n_estimators=1600, min_samples_split=15, min_samples_leaf=2, max_features=log2, max_depth=26, criterion=gini \n",
      "[CV]  n_estimators=1600, min_samples_split=15, min_samples_leaf=2, max_features=log2, max_depth=26, criterion=gini, total=   7.2s\n",
      "[CV] n_estimators=100, min_samples_split=5, min_samples_leaf=5, max_features=sqrt, max_depth=2, criterion=gini \n",
      "[CV]  n_estimators=100, min_samples_split=5, min_samples_leaf=5, max_features=sqrt, max_depth=2, criterion=gini, total=   0.4s\n",
      "[CV] n_estimators=100, min_samples_split=5, min_samples_leaf=5, max_features=sqrt, max_depth=2, criterion=gini \n",
      "[CV]  n_estimators=100, min_samples_split=5, min_samples_leaf=5, max_features=sqrt, max_depth=2, criterion=gini, total=   0.4s\n",
      "[CV] n_estimators=100, min_samples_split=5, min_samples_leaf=5, max_features=sqrt, max_depth=2, criterion=gini \n",
      "[CV]  n_estimators=100, min_samples_split=5, min_samples_leaf=5, max_features=sqrt, max_depth=2, criterion=gini, total=   0.4s\n",
      "[CV] n_estimators=100, min_samples_split=5, min_samples_leaf=5, max_features=sqrt, max_depth=2, criterion=gini \n",
      "[CV]  n_estimators=100, min_samples_split=5, min_samples_leaf=5, max_features=sqrt, max_depth=2, criterion=gini, total=   0.4s\n",
      "[CV] n_estimators=100, min_samples_split=5, min_samples_leaf=5, max_features=sqrt, max_depth=2, criterion=gini \n",
      "[CV]  n_estimators=100, min_samples_split=5, min_samples_leaf=5, max_features=sqrt, max_depth=2, criterion=gini, total=   0.4s\n",
      "[CV] n_estimators=500, min_samples_split=2, min_samples_leaf=15, max_features=auto, max_depth=20, criterion=gini \n",
      "[CV]  n_estimators=500, min_samples_split=2, min_samples_leaf=15, max_features=auto, max_depth=20, criterion=gini, total=   2.2s\n",
      "[CV] n_estimators=500, min_samples_split=2, min_samples_leaf=15, max_features=auto, max_depth=20, criterion=gini \n",
      "[CV]  n_estimators=500, min_samples_split=2, min_samples_leaf=15, max_features=auto, max_depth=20, criterion=gini, total=   2.9s\n",
      "[CV] n_estimators=500, min_samples_split=2, min_samples_leaf=15, max_features=auto, max_depth=20, criterion=gini \n",
      "[CV]  n_estimators=500, min_samples_split=2, min_samples_leaf=15, max_features=auto, max_depth=20, criterion=gini, total=   2.7s\n",
      "[CV] n_estimators=500, min_samples_split=2, min_samples_leaf=15, max_features=auto, max_depth=20, criterion=gini \n",
      "[CV]  n_estimators=500, min_samples_split=2, min_samples_leaf=15, max_features=auto, max_depth=20, criterion=gini, total=   2.1s\n",
      "[CV] n_estimators=500, min_samples_split=2, min_samples_leaf=15, max_features=auto, max_depth=20, criterion=gini \n",
      "[CV]  n_estimators=500, min_samples_split=2, min_samples_leaf=15, max_features=auto, max_depth=20, criterion=gini, total=   2.1s\n",
      "[CV] n_estimators=600, min_samples_split=5, min_samples_leaf=5, max_features=sqrt, max_depth=11, criterion=gini \n",
      "[CV]  n_estimators=600, min_samples_split=5, min_samples_leaf=5, max_features=sqrt, max_depth=11, criterion=gini, total=   2.7s\n",
      "[CV] n_estimators=600, min_samples_split=5, min_samples_leaf=5, max_features=sqrt, max_depth=11, criterion=gini \n",
      "[CV]  n_estimators=600, min_samples_split=5, min_samples_leaf=5, max_features=sqrt, max_depth=11, criterion=gini, total=   3.0s\n",
      "[CV] n_estimators=600, min_samples_split=5, min_samples_leaf=5, max_features=sqrt, max_depth=11, criterion=gini \n",
      "[CV]  n_estimators=600, min_samples_split=5, min_samples_leaf=5, max_features=sqrt, max_depth=11, criterion=gini, total=   3.0s\n",
      "[CV] n_estimators=600, min_samples_split=5, min_samples_leaf=5, max_features=sqrt, max_depth=11, criterion=gini \n",
      "[CV]  n_estimators=600, min_samples_split=5, min_samples_leaf=5, max_features=sqrt, max_depth=11, criterion=gini, total=   2.9s\n",
      "[CV] n_estimators=600, min_samples_split=5, min_samples_leaf=5, max_features=sqrt, max_depth=11, criterion=gini \n",
      "[CV]  n_estimators=600, min_samples_split=5, min_samples_leaf=5, max_features=sqrt, max_depth=11, criterion=gini, total=   3.3s\n",
      "[CV] n_estimators=1100, min_samples_split=10, min_samples_leaf=1, max_features=sqrt, max_depth=30, criterion=gini \n",
      "[CV]  n_estimators=1100, min_samples_split=10, min_samples_leaf=1, max_features=sqrt, max_depth=30, criterion=gini, total=   5.4s\n",
      "[CV] n_estimators=1100, min_samples_split=10, min_samples_leaf=1, max_features=sqrt, max_depth=30, criterion=gini \n",
      "[CV]  n_estimators=1100, min_samples_split=10, min_samples_leaf=1, max_features=sqrt, max_depth=30, criterion=gini, total=   4.8s\n",
      "[CV] n_estimators=1100, min_samples_split=10, min_samples_leaf=1, max_features=sqrt, max_depth=30, criterion=gini \n",
      "[CV]  n_estimators=1100, min_samples_split=10, min_samples_leaf=1, max_features=sqrt, max_depth=30, criterion=gini, total=   4.6s\n",
      "[CV] n_estimators=1100, min_samples_split=10, min_samples_leaf=1, max_features=sqrt, max_depth=30, criterion=gini \n",
      "[CV]  n_estimators=1100, min_samples_split=10, min_samples_leaf=1, max_features=sqrt, max_depth=30, criterion=gini, total=   5.2s\n",
      "[CV] n_estimators=1100, min_samples_split=10, min_samples_leaf=1, max_features=sqrt, max_depth=30, criterion=gini \n",
      "[CV]  n_estimators=1100, min_samples_split=10, min_samples_leaf=1, max_features=sqrt, max_depth=30, criterion=gini, total=   5.1s\n",
      "[CV] n_estimators=300, min_samples_split=2, min_samples_leaf=10, max_features=auto, max_depth=8, criterion=entropy \n",
      "[CV]  n_estimators=300, min_samples_split=2, min_samples_leaf=10, max_features=auto, max_depth=8, criterion=entropy, total=   1.3s\n",
      "[CV] n_estimators=300, min_samples_split=2, min_samples_leaf=10, max_features=auto, max_depth=8, criterion=entropy \n",
      "[CV]  n_estimators=300, min_samples_split=2, min_samples_leaf=10, max_features=auto, max_depth=8, criterion=entropy, total=   1.2s\n",
      "[CV] n_estimators=300, min_samples_split=2, min_samples_leaf=10, max_features=auto, max_depth=8, criterion=entropy \n",
      "[CV]  n_estimators=300, min_samples_split=2, min_samples_leaf=10, max_features=auto, max_depth=8, criterion=entropy, total=   1.3s\n",
      "[CV] n_estimators=300, min_samples_split=2, min_samples_leaf=10, max_features=auto, max_depth=8, criterion=entropy \n",
      "[CV]  n_estimators=300, min_samples_split=2, min_samples_leaf=10, max_features=auto, max_depth=8, criterion=entropy, total=   1.3s\n",
      "[CV] n_estimators=300, min_samples_split=2, min_samples_leaf=10, max_features=auto, max_depth=8, criterion=entropy \n",
      "[CV]  n_estimators=300, min_samples_split=2, min_samples_leaf=10, max_features=auto, max_depth=8, criterion=entropy, total=   1.3s\n",
      "[CV] n_estimators=400, min_samples_split=15, min_samples_leaf=10, max_features=log2, max_depth=26, criterion=gini \n",
      "[CV]  n_estimators=400, min_samples_split=15, min_samples_leaf=10, max_features=log2, max_depth=26, criterion=gini, total=   2.1s\n",
      "[CV] n_estimators=400, min_samples_split=15, min_samples_leaf=10, max_features=log2, max_depth=26, criterion=gini \n",
      "[CV]  n_estimators=400, min_samples_split=15, min_samples_leaf=10, max_features=log2, max_depth=26, criterion=gini, total=   2.5s\n",
      "[CV] n_estimators=400, min_samples_split=15, min_samples_leaf=10, max_features=log2, max_depth=26, criterion=gini \n",
      "[CV]  n_estimators=400, min_samples_split=15, min_samples_leaf=10, max_features=log2, max_depth=26, criterion=gini, total=   2.3s\n",
      "[CV] n_estimators=400, min_samples_split=15, min_samples_leaf=10, max_features=log2, max_depth=26, criterion=gini \n",
      "[CV]  n_estimators=400, min_samples_split=15, min_samples_leaf=10, max_features=log2, max_depth=26, criterion=gini, total=   1.8s\n",
      "[CV] n_estimators=400, min_samples_split=15, min_samples_leaf=10, max_features=log2, max_depth=26, criterion=gini \n",
      "[CV]  n_estimators=400, min_samples_split=15, min_samples_leaf=10, max_features=log2, max_depth=26, criterion=gini, total=   2.4s\n",
      "[CV] n_estimators=600, min_samples_split=2, min_samples_leaf=15, max_features=log2, max_depth=2, criterion=gini \n"
     ]
    },
    {
     "name": "stdout",
     "output_type": "stream",
     "text": [
      "[CV]  n_estimators=600, min_samples_split=2, min_samples_leaf=15, max_features=log2, max_depth=2, criterion=gini, total=   3.8s\n",
      "[CV] n_estimators=600, min_samples_split=2, min_samples_leaf=15, max_features=log2, max_depth=2, criterion=gini \n",
      "[CV]  n_estimators=600, min_samples_split=2, min_samples_leaf=15, max_features=log2, max_depth=2, criterion=gini, total=   3.0s\n",
      "[CV] n_estimators=600, min_samples_split=2, min_samples_leaf=15, max_features=log2, max_depth=2, criterion=gini \n",
      "[CV]  n_estimators=600, min_samples_split=2, min_samples_leaf=15, max_features=log2, max_depth=2, criterion=gini, total=   2.9s\n",
      "[CV] n_estimators=600, min_samples_split=2, min_samples_leaf=15, max_features=log2, max_depth=2, criterion=gini \n",
      "[CV]  n_estimators=600, min_samples_split=2, min_samples_leaf=15, max_features=log2, max_depth=2, criterion=gini, total=   2.9s\n",
      "[CV] n_estimators=600, min_samples_split=2, min_samples_leaf=15, max_features=log2, max_depth=2, criterion=gini \n",
      "[CV]  n_estimators=600, min_samples_split=2, min_samples_leaf=15, max_features=log2, max_depth=2, criterion=gini, total=   2.6s\n",
      "[CV] n_estimators=1000, min_samples_split=10, min_samples_leaf=2, max_features=sqrt, max_depth=2, criterion=gini \n",
      "[CV]  n_estimators=1000, min_samples_split=10, min_samples_leaf=2, max_features=sqrt, max_depth=2, criterion=gini, total=   4.3s\n",
      "[CV] n_estimators=1000, min_samples_split=10, min_samples_leaf=2, max_features=sqrt, max_depth=2, criterion=gini \n",
      "[CV]  n_estimators=1000, min_samples_split=10, min_samples_leaf=2, max_features=sqrt, max_depth=2, criterion=gini, total=   4.1s\n",
      "[CV] n_estimators=1000, min_samples_split=10, min_samples_leaf=2, max_features=sqrt, max_depth=2, criterion=gini \n",
      "[CV]  n_estimators=1000, min_samples_split=10, min_samples_leaf=2, max_features=sqrt, max_depth=2, criterion=gini, total=   4.8s\n",
      "[CV] n_estimators=1000, min_samples_split=10, min_samples_leaf=2, max_features=sqrt, max_depth=2, criterion=gini \n",
      "[CV]  n_estimators=1000, min_samples_split=10, min_samples_leaf=2, max_features=sqrt, max_depth=2, criterion=gini, total=   4.4s\n",
      "[CV] n_estimators=1000, min_samples_split=10, min_samples_leaf=2, max_features=sqrt, max_depth=2, criterion=gini \n",
      "[CV]  n_estimators=1000, min_samples_split=10, min_samples_leaf=2, max_features=sqrt, max_depth=2, criterion=gini, total=   4.6s\n",
      "[CV] n_estimators=1400, min_samples_split=5, min_samples_leaf=1, max_features=sqrt, max_depth=5, criterion=gini \n",
      "[CV]  n_estimators=1400, min_samples_split=5, min_samples_leaf=1, max_features=sqrt, max_depth=5, criterion=gini, total=   6.1s\n",
      "[CV] n_estimators=1400, min_samples_split=5, min_samples_leaf=1, max_features=sqrt, max_depth=5, criterion=gini \n",
      "[CV]  n_estimators=1400, min_samples_split=5, min_samples_leaf=1, max_features=sqrt, max_depth=5, criterion=gini, total=   6.9s\n",
      "[CV] n_estimators=1400, min_samples_split=5, min_samples_leaf=1, max_features=sqrt, max_depth=5, criterion=gini \n",
      "[CV]  n_estimators=1400, min_samples_split=5, min_samples_leaf=1, max_features=sqrt, max_depth=5, criterion=gini, total=   6.0s\n",
      "[CV] n_estimators=1400, min_samples_split=5, min_samples_leaf=1, max_features=sqrt, max_depth=5, criterion=gini \n",
      "[CV]  n_estimators=1400, min_samples_split=5, min_samples_leaf=1, max_features=sqrt, max_depth=5, criterion=gini, total=   5.9s\n",
      "[CV] n_estimators=1400, min_samples_split=5, min_samples_leaf=1, max_features=sqrt, max_depth=5, criterion=gini \n",
      "[CV]  n_estimators=1400, min_samples_split=5, min_samples_leaf=1, max_features=sqrt, max_depth=5, criterion=gini, total=   7.0s\n",
      "[CV] n_estimators=1200, min_samples_split=5, min_samples_leaf=15, max_features=log2, max_depth=8, criterion=gini \n",
      "[CV]  n_estimators=1200, min_samples_split=5, min_samples_leaf=15, max_features=log2, max_depth=8, criterion=gini, total=   4.9s\n",
      "[CV] n_estimators=1200, min_samples_split=5, min_samples_leaf=15, max_features=log2, max_depth=8, criterion=gini \n",
      "[CV]  n_estimators=1200, min_samples_split=5, min_samples_leaf=15, max_features=log2, max_depth=8, criterion=gini, total=   5.0s\n",
      "[CV] n_estimators=1200, min_samples_split=5, min_samples_leaf=15, max_features=log2, max_depth=8, criterion=gini \n",
      "[CV]  n_estimators=1200, min_samples_split=5, min_samples_leaf=15, max_features=log2, max_depth=8, criterion=gini, total=   5.2s\n",
      "[CV] n_estimators=1200, min_samples_split=5, min_samples_leaf=15, max_features=log2, max_depth=8, criterion=gini \n",
      "[CV]  n_estimators=1200, min_samples_split=5, min_samples_leaf=15, max_features=log2, max_depth=8, criterion=gini, total=   5.1s\n",
      "[CV] n_estimators=1200, min_samples_split=5, min_samples_leaf=15, max_features=log2, max_depth=8, criterion=gini \n",
      "[CV]  n_estimators=1200, min_samples_split=5, min_samples_leaf=15, max_features=log2, max_depth=8, criterion=gini, total=   5.0s\n",
      "[CV] n_estimators=900, min_samples_split=10, min_samples_leaf=2, max_features=log2, max_depth=30, criterion=gini \n",
      "[CV]  n_estimators=900, min_samples_split=10, min_samples_leaf=2, max_features=log2, max_depth=30, criterion=gini, total=   4.2s\n",
      "[CV] n_estimators=900, min_samples_split=10, min_samples_leaf=2, max_features=log2, max_depth=30, criterion=gini \n",
      "[CV]  n_estimators=900, min_samples_split=10, min_samples_leaf=2, max_features=log2, max_depth=30, criterion=gini, total=   4.1s\n",
      "[CV] n_estimators=900, min_samples_split=10, min_samples_leaf=2, max_features=log2, max_depth=30, criterion=gini \n",
      "[CV]  n_estimators=900, min_samples_split=10, min_samples_leaf=2, max_features=log2, max_depth=30, criterion=gini, total=   4.0s\n",
      "[CV] n_estimators=900, min_samples_split=10, min_samples_leaf=2, max_features=log2, max_depth=30, criterion=gini \n",
      "[CV]  n_estimators=900, min_samples_split=10, min_samples_leaf=2, max_features=log2, max_depth=30, criterion=gini, total=   4.0s\n",
      "[CV] n_estimators=900, min_samples_split=10, min_samples_leaf=2, max_features=log2, max_depth=30, criterion=gini \n",
      "[CV]  n_estimators=900, min_samples_split=10, min_samples_leaf=2, max_features=log2, max_depth=30, criterion=gini, total=   4.1s\n",
      "[CV] n_estimators=1000, min_samples_split=100, min_samples_leaf=15, max_features=log2, max_depth=2, criterion=entropy \n",
      "[CV]  n_estimators=1000, min_samples_split=100, min_samples_leaf=15, max_features=log2, max_depth=2, criterion=entropy, total=   4.1s\n",
      "[CV] n_estimators=1000, min_samples_split=100, min_samples_leaf=15, max_features=log2, max_depth=2, criterion=entropy \n",
      "[CV]  n_estimators=1000, min_samples_split=100, min_samples_leaf=15, max_features=log2, max_depth=2, criterion=entropy, total=   4.1s\n",
      "[CV] n_estimators=1000, min_samples_split=100, min_samples_leaf=15, max_features=log2, max_depth=2, criterion=entropy \n",
      "[CV]  n_estimators=1000, min_samples_split=100, min_samples_leaf=15, max_features=log2, max_depth=2, criterion=entropy, total=   4.1s\n",
      "[CV] n_estimators=1000, min_samples_split=100, min_samples_leaf=15, max_features=log2, max_depth=2, criterion=entropy \n",
      "[CV]  n_estimators=1000, min_samples_split=100, min_samples_leaf=15, max_features=log2, max_depth=2, criterion=entropy, total=   4.4s\n",
      "[CV] n_estimators=1000, min_samples_split=100, min_samples_leaf=15, max_features=log2, max_depth=2, criterion=entropy \n",
      "[CV]  n_estimators=1000, min_samples_split=100, min_samples_leaf=15, max_features=log2, max_depth=2, criterion=entropy, total=   4.5s\n",
      "[CV] n_estimators=1400, min_samples_split=2, min_samples_leaf=15, max_features=log2, max_depth=17, criterion=entropy \n",
      "[CV]  n_estimators=1400, min_samples_split=2, min_samples_leaf=15, max_features=log2, max_depth=17, criterion=entropy, total=   6.0s\n",
      "[CV] n_estimators=1400, min_samples_split=2, min_samples_leaf=15, max_features=log2, max_depth=17, criterion=entropy \n",
      "[CV]  n_estimators=1400, min_samples_split=2, min_samples_leaf=15, max_features=log2, max_depth=17, criterion=entropy, total=   6.1s\n",
      "[CV] n_estimators=1400, min_samples_split=2, min_samples_leaf=15, max_features=log2, max_depth=17, criterion=entropy \n",
      "[CV]  n_estimators=1400, min_samples_split=2, min_samples_leaf=15, max_features=log2, max_depth=17, criterion=entropy, total=   5.8s\n",
      "[CV] n_estimators=1400, min_samples_split=2, min_samples_leaf=15, max_features=log2, max_depth=17, criterion=entropy \n",
      "[CV]  n_estimators=1400, min_samples_split=2, min_samples_leaf=15, max_features=log2, max_depth=17, criterion=entropy, total=   6.5s\n",
      "[CV] n_estimators=1400, min_samples_split=2, min_samples_leaf=15, max_features=log2, max_depth=17, criterion=entropy \n"
     ]
    },
    {
     "name": "stdout",
     "output_type": "stream",
     "text": [
      "[CV]  n_estimators=1400, min_samples_split=2, min_samples_leaf=15, max_features=log2, max_depth=17, criterion=entropy, total=   5.8s\n",
      "[CV] n_estimators=1700, min_samples_split=5, min_samples_leaf=10, max_features=sqrt, max_depth=11, criterion=gini \n",
      "[CV]  n_estimators=1700, min_samples_split=5, min_samples_leaf=10, max_features=sqrt, max_depth=11, criterion=gini, total=   7.0s\n",
      "[CV] n_estimators=1700, min_samples_split=5, min_samples_leaf=10, max_features=sqrt, max_depth=11, criterion=gini \n",
      "[CV]  n_estimators=1700, min_samples_split=5, min_samples_leaf=10, max_features=sqrt, max_depth=11, criterion=gini, total=   7.0s\n",
      "[CV] n_estimators=1700, min_samples_split=5, min_samples_leaf=10, max_features=sqrt, max_depth=11, criterion=gini \n",
      "[CV]  n_estimators=1700, min_samples_split=5, min_samples_leaf=10, max_features=sqrt, max_depth=11, criterion=gini, total=   7.0s\n",
      "[CV] n_estimators=1700, min_samples_split=5, min_samples_leaf=10, max_features=sqrt, max_depth=11, criterion=gini \n",
      "[CV]  n_estimators=1700, min_samples_split=5, min_samples_leaf=10, max_features=sqrt, max_depth=11, criterion=gini, total=   6.9s\n",
      "[CV] n_estimators=1700, min_samples_split=5, min_samples_leaf=10, max_features=sqrt, max_depth=11, criterion=gini \n",
      "[CV]  n_estimators=1700, min_samples_split=5, min_samples_leaf=10, max_features=sqrt, max_depth=11, criterion=gini, total=   8.0s\n",
      "[CV] n_estimators=100, min_samples_split=2, min_samples_leaf=15, max_features=auto, max_depth=17, criterion=entropy \n",
      "[CV]  n_estimators=100, min_samples_split=2, min_samples_leaf=15, max_features=auto, max_depth=17, criterion=entropy, total=   0.4s\n",
      "[CV] n_estimators=100, min_samples_split=2, min_samples_leaf=15, max_features=auto, max_depth=17, criterion=entropy \n",
      "[CV]  n_estimators=100, min_samples_split=2, min_samples_leaf=15, max_features=auto, max_depth=17, criterion=entropy, total=   0.4s\n",
      "[CV] n_estimators=100, min_samples_split=2, min_samples_leaf=15, max_features=auto, max_depth=17, criterion=entropy \n",
      "[CV]  n_estimators=100, min_samples_split=2, min_samples_leaf=15, max_features=auto, max_depth=17, criterion=entropy, total=   0.4s\n",
      "[CV] n_estimators=100, min_samples_split=2, min_samples_leaf=15, max_features=auto, max_depth=17, criterion=entropy \n",
      "[CV]  n_estimators=100, min_samples_split=2, min_samples_leaf=15, max_features=auto, max_depth=17, criterion=entropy, total=   0.4s\n",
      "[CV] n_estimators=100, min_samples_split=2, min_samples_leaf=15, max_features=auto, max_depth=17, criterion=entropy \n",
      "[CV]  n_estimators=100, min_samples_split=2, min_samples_leaf=15, max_features=auto, max_depth=17, criterion=entropy, total=   0.4s\n",
      "[CV] n_estimators=1900, min_samples_split=100, min_samples_leaf=10, max_features=auto, max_depth=14, criterion=entropy \n",
      "[CV]  n_estimators=1900, min_samples_split=100, min_samples_leaf=10, max_features=auto, max_depth=14, criterion=entropy, total=   7.6s\n",
      "[CV] n_estimators=1900, min_samples_split=100, min_samples_leaf=10, max_features=auto, max_depth=14, criterion=entropy \n",
      "[CV]  n_estimators=1900, min_samples_split=100, min_samples_leaf=10, max_features=auto, max_depth=14, criterion=entropy, total=   7.9s\n",
      "[CV] n_estimators=1900, min_samples_split=100, min_samples_leaf=10, max_features=auto, max_depth=14, criterion=entropy \n",
      "[CV]  n_estimators=1900, min_samples_split=100, min_samples_leaf=10, max_features=auto, max_depth=14, criterion=entropy, total=   8.0s\n",
      "[CV] n_estimators=1900, min_samples_split=100, min_samples_leaf=10, max_features=auto, max_depth=14, criterion=entropy \n",
      "[CV]  n_estimators=1900, min_samples_split=100, min_samples_leaf=10, max_features=auto, max_depth=14, criterion=entropy, total=   7.9s\n",
      "[CV] n_estimators=1900, min_samples_split=100, min_samples_leaf=10, max_features=auto, max_depth=14, criterion=entropy \n",
      "[CV]  n_estimators=1900, min_samples_split=100, min_samples_leaf=10, max_features=auto, max_depth=14, criterion=entropy, total=   7.6s\n",
      "[CV] n_estimators=300, min_samples_split=1000, min_samples_leaf=5, max_features=sqrt, max_depth=2, criterion=entropy \n",
      "[CV]  n_estimators=300, min_samples_split=1000, min_samples_leaf=5, max_features=sqrt, max_depth=2, criterion=entropy, total=   1.1s\n",
      "[CV] n_estimators=300, min_samples_split=1000, min_samples_leaf=5, max_features=sqrt, max_depth=2, criterion=entropy \n",
      "[CV]  n_estimators=300, min_samples_split=1000, min_samples_leaf=5, max_features=sqrt, max_depth=2, criterion=entropy, total=   1.1s\n",
      "[CV] n_estimators=300, min_samples_split=1000, min_samples_leaf=5, max_features=sqrt, max_depth=2, criterion=entropy \n",
      "[CV]  n_estimators=300, min_samples_split=1000, min_samples_leaf=5, max_features=sqrt, max_depth=2, criterion=entropy, total=   1.2s\n",
      "[CV] n_estimators=300, min_samples_split=1000, min_samples_leaf=5, max_features=sqrt, max_depth=2, criterion=entropy \n",
      "[CV]  n_estimators=300, min_samples_split=1000, min_samples_leaf=5, max_features=sqrt, max_depth=2, criterion=entropy, total=   1.2s\n",
      "[CV] n_estimators=300, min_samples_split=1000, min_samples_leaf=5, max_features=sqrt, max_depth=2, criterion=entropy \n",
      "[CV]  n_estimators=300, min_samples_split=1000, min_samples_leaf=5, max_features=sqrt, max_depth=2, criterion=entropy, total=   1.1s\n",
      "[CV] n_estimators=1200, min_samples_split=15, min_samples_leaf=10, max_features=auto, max_depth=2, criterion=entropy \n",
      "[CV]  n_estimators=1200, min_samples_split=15, min_samples_leaf=10, max_features=auto, max_depth=2, criterion=entropy, total=   5.3s\n",
      "[CV] n_estimators=1200, min_samples_split=15, min_samples_leaf=10, max_features=auto, max_depth=2, criterion=entropy \n",
      "[CV]  n_estimators=1200, min_samples_split=15, min_samples_leaf=10, max_features=auto, max_depth=2, criterion=entropy, total=   5.8s\n",
      "[CV] n_estimators=1200, min_samples_split=15, min_samples_leaf=10, max_features=auto, max_depth=2, criterion=entropy \n",
      "[CV]  n_estimators=1200, min_samples_split=15, min_samples_leaf=10, max_features=auto, max_depth=2, criterion=entropy, total=   6.0s\n",
      "[CV] n_estimators=1200, min_samples_split=15, min_samples_leaf=10, max_features=auto, max_depth=2, criterion=entropy \n",
      "[CV]  n_estimators=1200, min_samples_split=15, min_samples_leaf=10, max_features=auto, max_depth=2, criterion=entropy, total=   6.3s\n",
      "[CV] n_estimators=1200, min_samples_split=15, min_samples_leaf=10, max_features=auto, max_depth=2, criterion=entropy \n",
      "[CV]  n_estimators=1200, min_samples_split=15, min_samples_leaf=10, max_features=auto, max_depth=2, criterion=entropy, total=   7.0s\n",
      "[CV] n_estimators=800, min_samples_split=1000, min_samples_leaf=5, max_features=sqrt, max_depth=5, criterion=gini \n",
      "[CV]  n_estimators=800, min_samples_split=1000, min_samples_leaf=5, max_features=sqrt, max_depth=5, criterion=gini, total=   4.9s\n",
      "[CV] n_estimators=800, min_samples_split=1000, min_samples_leaf=5, max_features=sqrt, max_depth=5, criterion=gini \n",
      "[CV]  n_estimators=800, min_samples_split=1000, min_samples_leaf=5, max_features=sqrt, max_depth=5, criterion=gini, total=   4.0s\n",
      "[CV] n_estimators=800, min_samples_split=1000, min_samples_leaf=5, max_features=sqrt, max_depth=5, criterion=gini \n",
      "[CV]  n_estimators=800, min_samples_split=1000, min_samples_leaf=5, max_features=sqrt, max_depth=5, criterion=gini, total=   3.8s\n",
      "[CV] n_estimators=800, min_samples_split=1000, min_samples_leaf=5, max_features=sqrt, max_depth=5, criterion=gini \n",
      "[CV]  n_estimators=800, min_samples_split=1000, min_samples_leaf=5, max_features=sqrt, max_depth=5, criterion=gini, total=   4.0s\n",
      "[CV] n_estimators=800, min_samples_split=1000, min_samples_leaf=5, max_features=sqrt, max_depth=5, criterion=gini \n",
      "[CV]  n_estimators=800, min_samples_split=1000, min_samples_leaf=5, max_features=sqrt, max_depth=5, criterion=gini, total=   4.0s\n"
     ]
    },
    {
     "name": "stderr",
     "output_type": "stream",
     "text": [
      "[Parallel(n_jobs=1)]: Done 100 out of 100 | elapsed:  6.8min finished\n"
     ]
    },
    {
     "data": {
      "text/plain": [
       "RandomizedSearchCV(cv=5, estimator=RandomForestClassifier(), n_iter=20,\n",
       "                   n_jobs=1,\n",
       "                   param_distributions={'criterion': ['gini', 'entropy'],\n",
       "                                        'max_depth': [2, 5, 8, 11, 14, 17, 20,\n",
       "                                                      23, 26, 30],\n",
       "                                        'max_features': ['auto', 'sqrt',\n",
       "                                                         'log2'],\n",
       "                                        'min_samples_leaf': [1, 2, 5, 10, 15],\n",
       "                                        'min_samples_split': [2, 5, 10, 15, 100,\n",
       "                                                              1000],\n",
       "                                        'n_estimators': [100, 200, 300, 400,\n",
       "                                                         500, 600, 700, 800,\n",
       "                                                         900, 1000, 1100, 1200,\n",
       "                                                         1300, 1400, 1500, 1600,\n",
       "                                                         1700, 1800, 1900,\n",
       "                                                         2000]},\n",
       "                   random_state=42, verbose=2)"
      ]
     },
     "execution_count": 120,
     "metadata": {},
     "output_type": "execute_result"
    }
   ],
   "source": [
    "rf_tree_cv.fit(x_train,y_train)"
   ]
  },
  {
   "cell_type": "code",
   "execution_count": 121,
   "metadata": {},
   "outputs": [
    {
     "data": {
      "text/plain": [
       "{'n_estimators': 1600,\n",
       " 'min_samples_split': 15,\n",
       " 'min_samples_leaf': 2,\n",
       " 'max_features': 'log2',\n",
       " 'max_depth': 26,\n",
       " 'criterion': 'gini'}"
      ]
     },
     "execution_count": 121,
     "metadata": {},
     "output_type": "execute_result"
    }
   ],
   "source": [
    "rf_tree_cv.best_params_"
   ]
  },
  {
   "cell_type": "code",
   "execution_count": 122,
   "metadata": {},
   "outputs": [
    {
     "name": "stdout",
     "output_type": "stream",
     "text": [
      "Accuracy =  81.00558659217877\n"
     ]
    }
   ],
   "source": [
    "rf_prediction = rf_tree_cv.predict(x_test)\n",
    "print(\"Accuracy = \",accuracy_score(rf_prediction,y_test)*100)"
   ]
  },
  {
   "cell_type": "code",
   "execution_count": null,
   "metadata": {},
   "outputs": [],
   "source": []
  },
  {
   "cell_type": "code",
   "execution_count": null,
   "metadata": {},
   "outputs": [],
   "source": []
  }
 ],
 "metadata": {
  "kernelspec": {
   "display_name": "Python 3",
   "language": "python",
   "name": "python3"
  },
  "language_info": {
   "codemirror_mode": {
    "name": "ipython",
    "version": 3
   },
   "file_extension": ".py",
   "mimetype": "text/x-python",
   "name": "python",
   "nbconvert_exporter": "python",
   "pygments_lexer": "ipython3",
   "version": "3.7.6"
  }
 },
 "nbformat": 4,
 "nbformat_minor": 4
}
